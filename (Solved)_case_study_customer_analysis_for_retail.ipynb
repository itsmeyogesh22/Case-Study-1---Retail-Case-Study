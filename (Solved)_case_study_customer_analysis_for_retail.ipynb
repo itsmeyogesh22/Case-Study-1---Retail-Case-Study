{
 "cells": [
  {
   "cell_type": "code",
   "execution_count": 1,
   "id": "4c355603",
   "metadata": {},
   "outputs": [],
   "source": [
    "import pandas as pd\n",
    "import datetime as dt\n",
    "import numpy as np\n",
    "import seaborn as sns\n",
    "import matplotlib.pyplot as plt\n",
    "%matplotlib inline\n",
    "import os\n",
    "from warnings import filterwarnings ; filterwarnings('ignore')"
   ]
  },
  {
   "cell_type": "markdown",
   "id": "eaa139ff",
   "metadata": {},
   "source": [
    "####  Merge the datasets Customers, Product Hierarchy and Transactions as Customer_Final. Ensure to keep all customers who have done transactions with us and select the join type accordingly."
   ]
  },
  {
   "cell_type": "markdown",
   "id": "0c90acf2",
   "metadata": {},
   "source": [
    "##### Step-1: importing the required data"
   ]
  },
  {
   "cell_type": "code",
   "execution_count": 2,
   "id": "b14c9ab4",
   "metadata": {},
   "outputs": [],
   "source": [
    "cus = pd.read_csv(r\"Case Study 1 - Retail Case Study\\Customer.csv\")\n",
    "trans = pd.read_csv(r\"Case Study 1 - Retail Case Study\\Transactions.csv\")\n",
    "prod_cat_info = pd.read_csv(r\"Case Study 1 - Retail Case Study\\prod_cat_info.csv\")"
   ]
  },
  {
   "cell_type": "markdown",
   "id": "b3a40deb",
   "metadata": {},
   "source": [
    "##### Step-2: merging data files into one dataset"
   ]
  },
  {
   "cell_type": "code",
   "execution_count": 3,
   "id": "9a5ed14b",
   "metadata": {},
   "outputs": [
    {
     "data": {
      "text/html": [
       "<div>\n",
       "<style scoped>\n",
       "    .dataframe tbody tr th:only-of-type {\n",
       "        vertical-align: middle;\n",
       "    }\n",
       "\n",
       "    .dataframe tbody tr th {\n",
       "        vertical-align: top;\n",
       "    }\n",
       "\n",
       "    .dataframe thead th {\n",
       "        text-align: right;\n",
       "    }\n",
       "</style>\n",
       "<table border=\"1\" class=\"dataframe\">\n",
       "  <thead>\n",
       "    <tr style=\"text-align: right;\">\n",
       "      <th></th>\n",
       "      <th>customer_Id</th>\n",
       "      <th>DOB</th>\n",
       "      <th>Gender</th>\n",
       "      <th>city_code</th>\n",
       "      <th>transaction_id</th>\n",
       "      <th>cust_id</th>\n",
       "      <th>tran_date</th>\n",
       "      <th>prod_subcat_code</th>\n",
       "      <th>prod_cat_code</th>\n",
       "      <th>Qty</th>\n",
       "      <th>Rate</th>\n",
       "      <th>Tax</th>\n",
       "      <th>total_amt</th>\n",
       "      <th>Store_type</th>\n",
       "      <th>prod_sub_cat_code</th>\n",
       "      <th>prod_cat</th>\n",
       "      <th>prod_subcat</th>\n",
       "    </tr>\n",
       "  </thead>\n",
       "  <tbody>\n",
       "    <tr>\n",
       "      <th>0</th>\n",
       "      <td>268408</td>\n",
       "      <td>02-01-1970</td>\n",
       "      <td>M</td>\n",
       "      <td>4.0</td>\n",
       "      <td>87243835584</td>\n",
       "      <td>268408</td>\n",
       "      <td>13-01-2014</td>\n",
       "      <td>7</td>\n",
       "      <td>5</td>\n",
       "      <td>5</td>\n",
       "      <td>187</td>\n",
       "      <td>98.175</td>\n",
       "      <td>1033.175</td>\n",
       "      <td>TeleShop</td>\n",
       "      <td>7</td>\n",
       "      <td>Books</td>\n",
       "      <td>Fiction</td>\n",
       "    </tr>\n",
       "    <tr>\n",
       "      <th>1</th>\n",
       "      <td>268408</td>\n",
       "      <td>02-01-1970</td>\n",
       "      <td>M</td>\n",
       "      <td>4.0</td>\n",
       "      <td>16197868036</td>\n",
       "      <td>268408</td>\n",
       "      <td>16-12-2013</td>\n",
       "      <td>1</td>\n",
       "      <td>4</td>\n",
       "      <td>-5</td>\n",
       "      <td>-210</td>\n",
       "      <td>110.250</td>\n",
       "      <td>-1160.250</td>\n",
       "      <td>Flagship store</td>\n",
       "      <td>1</td>\n",
       "      <td>Bags</td>\n",
       "      <td>Mens</td>\n",
       "    </tr>\n",
       "    <tr>\n",
       "      <th>2</th>\n",
       "      <td>268408</td>\n",
       "      <td>02-01-1970</td>\n",
       "      <td>M</td>\n",
       "      <td>4.0</td>\n",
       "      <td>16197868036</td>\n",
       "      <td>268408</td>\n",
       "      <td>12/12/2013</td>\n",
       "      <td>1</td>\n",
       "      <td>4</td>\n",
       "      <td>5</td>\n",
       "      <td>210</td>\n",
       "      <td>110.250</td>\n",
       "      <td>1160.250</td>\n",
       "      <td>Flagship store</td>\n",
       "      <td>1</td>\n",
       "      <td>Bags</td>\n",
       "      <td>Mens</td>\n",
       "    </tr>\n",
       "    <tr>\n",
       "      <th>3</th>\n",
       "      <td>268408</td>\n",
       "      <td>02-01-1970</td>\n",
       "      <td>M</td>\n",
       "      <td>4.0</td>\n",
       "      <td>28810141075</td>\n",
       "      <td>268408</td>\n",
       "      <td>2/9/2013</td>\n",
       "      <td>10</td>\n",
       "      <td>6</td>\n",
       "      <td>2</td>\n",
       "      <td>813</td>\n",
       "      <td>170.730</td>\n",
       "      <td>1796.730</td>\n",
       "      <td>TeleShop</td>\n",
       "      <td>10</td>\n",
       "      <td>Home and kitchen</td>\n",
       "      <td>Kitchen</td>\n",
       "    </tr>\n",
       "    <tr>\n",
       "      <th>4</th>\n",
       "      <td>268408</td>\n",
       "      <td>02-01-1970</td>\n",
       "      <td>M</td>\n",
       "      <td>4.0</td>\n",
       "      <td>64633435931</td>\n",
       "      <td>268408</td>\n",
       "      <td>6/5/2013</td>\n",
       "      <td>4</td>\n",
       "      <td>2</td>\n",
       "      <td>3</td>\n",
       "      <td>312</td>\n",
       "      <td>98.280</td>\n",
       "      <td>1034.280</td>\n",
       "      <td>Flagship store</td>\n",
       "      <td>4</td>\n",
       "      <td>Footwear</td>\n",
       "      <td>Kids</td>\n",
       "    </tr>\n",
       "  </tbody>\n",
       "</table>\n",
       "</div>"
      ],
      "text/plain": [
       "   customer_Id         DOB Gender  city_code  transaction_id  cust_id  \\\n",
       "0       268408  02-01-1970      M        4.0     87243835584   268408   \n",
       "1       268408  02-01-1970      M        4.0     16197868036   268408   \n",
       "2       268408  02-01-1970      M        4.0     16197868036   268408   \n",
       "3       268408  02-01-1970      M        4.0     28810141075   268408   \n",
       "4       268408  02-01-1970      M        4.0     64633435931   268408   \n",
       "\n",
       "    tran_date  prod_subcat_code  prod_cat_code  Qty  Rate      Tax  total_amt  \\\n",
       "0  13-01-2014                 7              5    5   187   98.175   1033.175   \n",
       "1  16-12-2013                 1              4   -5  -210  110.250  -1160.250   \n",
       "2  12/12/2013                 1              4    5   210  110.250   1160.250   \n",
       "3    2/9/2013                10              6    2   813  170.730   1796.730   \n",
       "4    6/5/2013                 4              2    3   312   98.280   1034.280   \n",
       "\n",
       "       Store_type  prod_sub_cat_code          prod_cat prod_subcat  \n",
       "0        TeleShop                  7             Books     Fiction  \n",
       "1  Flagship store                  1              Bags        Mens  \n",
       "2  Flagship store                  1              Bags        Mens  \n",
       "3        TeleShop                 10  Home and kitchen     Kitchen  \n",
       "4  Flagship store                  4          Footwear        Kids  "
      ]
     },
     "execution_count": 3,
     "metadata": {},
     "output_type": "execute_result"
    }
   ],
   "source": [
    "merge1 = pd.merge(cus, \n",
    "                  trans, \n",
    "                  left_on = 'customer_Id', \n",
    "                  right_on = 'cust_id', \n",
    "                  how = 'inner')\n",
    "\n",
    "Customer_Final = pd.merge(merge1, \n",
    "                          prod_cat_info[['prod_cat_code', 'prod_sub_cat_code', 'prod_cat', 'prod_subcat']], \n",
    "                          left_on = ['prod_cat_code', 'prod_subcat_code'], \n",
    "                          right_on = ['prod_cat_code', 'prod_sub_cat_code'], \n",
    "                          how = 'inner')\n",
    "Customer_Final.head()"
   ]
  },
  {
   "cell_type": "markdown",
   "id": "d50eed5f",
   "metadata": {},
   "source": [
    "##### Step-3: Fixing data type (date columns: DOB, tran_date | other variables: city_code)"
   ]
  },
  {
   "cell_type": "code",
   "execution_count": 4,
   "id": "c13a21d9",
   "metadata": {},
   "outputs": [
    {
     "name": "stdout",
     "output_type": "stream",
     "text": [
      "<class 'pandas.core.frame.DataFrame'>\n",
      "RangeIndex: 23053 entries, 0 to 23052\n",
      "Data columns (total 2 columns):\n",
      " #   Column     Non-Null Count  Dtype \n",
      "---  ------     --------------  ----- \n",
      " 0   DOB        23053 non-null  object\n",
      " 1   tran_date  23053 non-null  object\n",
      "dtypes: object(2)\n",
      "memory usage: 360.3+ KB\n"
     ]
    }
   ],
   "source": [
    "Customer_Final.loc[:, ['DOB', 'tran_date']].info()"
   ]
  },
  {
   "cell_type": "code",
   "execution_count": 5,
   "id": "fe834d56",
   "metadata": {},
   "outputs": [
    {
     "data": {
      "text/plain": [
       "0   2014-01-13\n",
       "1   2013-12-16\n",
       "2   2013-12-12\n",
       "3   2013-09-02\n",
       "4   2013-05-06\n",
       "Name: tran_date, dtype: datetime64[ns]"
      ]
     },
     "execution_count": 5,
     "metadata": {},
     "output_type": "execute_result"
    }
   ],
   "source": [
    "Customer_Final['tran_date'] = pd.to_datetime(Customer_Final['tran_date'].apply(lambda x: x.replace('/', '-')))\n",
    "Customer_Final['tran_date'].head()"
   ]
  },
  {
   "cell_type": "code",
   "execution_count": 6,
   "id": "78f6cb75",
   "metadata": {},
   "outputs": [
    {
     "data": {
      "text/plain": [
       "0   1970-01-02\n",
       "1   1970-01-02\n",
       "2   1970-01-02\n",
       "3   1970-01-02\n",
       "4   1970-01-02\n",
       "Name: DOB, dtype: datetime64[ns]"
      ]
     },
     "execution_count": 6,
     "metadata": {},
     "output_type": "execute_result"
    }
   ],
   "source": [
    "Customer_Final['DOB'] = pd.to_datetime(Customer_Final['DOB'].apply(lambda x: x.replace('/', '-')), format = '%d-%m-%Y')\n",
    "Customer_Final['DOB'].head()"
   ]
  },
  {
   "cell_type": "code",
   "execution_count": 7,
   "id": "2bf1c8c4",
   "metadata": {},
   "outputs": [
    {
     "data": {
      "text/plain": [
       "DOB          datetime64[ns]\n",
       "tran_date    datetime64[ns]\n",
       "dtype: object"
      ]
     },
     "execution_count": 7,
     "metadata": {},
     "output_type": "execute_result"
    }
   ],
   "source": [
    "# Verifying the data type\n",
    "Customer_Final.loc[:, ['DOB', 'tran_date']].dtypes"
   ]
  },
  {
   "cell_type": "code",
   "execution_count": 8,
   "id": "bd5f1770",
   "metadata": {},
   "outputs": [
    {
     "name": "stdout",
     "output_type": "stream",
     "text": [
      "<class 'pandas.core.series.Series'>\n",
      "RangeIndex: 23053 entries, 0 to 23052\n",
      "Series name: city_code\n",
      "Non-Null Count  Dtype  \n",
      "--------------  -----  \n",
      "23045 non-null  float64\n",
      "dtypes: float64(1)\n",
      "memory usage: 180.2 KB\n"
     ]
    }
   ],
   "source": [
    "Customer_Final['city_code'].info()"
   ]
  },
  {
   "cell_type": "code",
   "execution_count": 9,
   "id": "31fc95ae",
   "metadata": {},
   "outputs": [
    {
     "data": {
      "text/plain": [
       "Int64Dtype()"
      ]
     },
     "execution_count": 9,
     "metadata": {},
     "output_type": "execute_result"
    }
   ],
   "source": [
    "Customer_Final['city_code'] = Customer_Final['city_code'].astype('object')\n",
    "Customer_Final['city_code'] = Customer_Final['city_code'].astype('Int64')\n",
    "Customer_Final['city_code'].dtypes"
   ]
  },
  {
   "cell_type": "code",
   "execution_count": 10,
   "id": "9f9e55c1",
   "metadata": {},
   "outputs": [
    {
     "data": {
      "text/html": [
       "<div>\n",
       "<style scoped>\n",
       "    .dataframe tbody tr th:only-of-type {\n",
       "        vertical-align: middle;\n",
       "    }\n",
       "\n",
       "    .dataframe tbody tr th {\n",
       "        vertical-align: top;\n",
       "    }\n",
       "\n",
       "    .dataframe thead th {\n",
       "        text-align: right;\n",
       "    }\n",
       "</style>\n",
       "<table border=\"1\" class=\"dataframe\">\n",
       "  <thead>\n",
       "    <tr style=\"text-align: right;\">\n",
       "      <th></th>\n",
       "      <th>customer_Id</th>\n",
       "      <th>DOB</th>\n",
       "      <th>Gender</th>\n",
       "      <th>city_code</th>\n",
       "      <th>transaction_id</th>\n",
       "      <th>cust_id</th>\n",
       "      <th>tran_date</th>\n",
       "      <th>prod_subcat_code</th>\n",
       "      <th>prod_cat_code</th>\n",
       "      <th>Qty</th>\n",
       "      <th>Rate</th>\n",
       "      <th>Tax</th>\n",
       "      <th>total_amt</th>\n",
       "      <th>Store_type</th>\n",
       "      <th>prod_sub_cat_code</th>\n",
       "      <th>prod_cat</th>\n",
       "      <th>prod_subcat</th>\n",
       "    </tr>\n",
       "  </thead>\n",
       "  <tbody>\n",
       "    <tr>\n",
       "      <th>0</th>\n",
       "      <td>268408</td>\n",
       "      <td>1970-01-02</td>\n",
       "      <td>M</td>\n",
       "      <td>4</td>\n",
       "      <td>87243835584</td>\n",
       "      <td>268408</td>\n",
       "      <td>2014-01-13</td>\n",
       "      <td>7</td>\n",
       "      <td>5</td>\n",
       "      <td>5</td>\n",
       "      <td>187</td>\n",
       "      <td>98.175</td>\n",
       "      <td>1033.175</td>\n",
       "      <td>TeleShop</td>\n",
       "      <td>7</td>\n",
       "      <td>Books</td>\n",
       "      <td>Fiction</td>\n",
       "    </tr>\n",
       "    <tr>\n",
       "      <th>1</th>\n",
       "      <td>268408</td>\n",
       "      <td>1970-01-02</td>\n",
       "      <td>M</td>\n",
       "      <td>4</td>\n",
       "      <td>16197868036</td>\n",
       "      <td>268408</td>\n",
       "      <td>2013-12-16</td>\n",
       "      <td>1</td>\n",
       "      <td>4</td>\n",
       "      <td>-5</td>\n",
       "      <td>-210</td>\n",
       "      <td>110.250</td>\n",
       "      <td>-1160.250</td>\n",
       "      <td>Flagship store</td>\n",
       "      <td>1</td>\n",
       "      <td>Bags</td>\n",
       "      <td>Mens</td>\n",
       "    </tr>\n",
       "    <tr>\n",
       "      <th>2</th>\n",
       "      <td>268408</td>\n",
       "      <td>1970-01-02</td>\n",
       "      <td>M</td>\n",
       "      <td>4</td>\n",
       "      <td>16197868036</td>\n",
       "      <td>268408</td>\n",
       "      <td>2013-12-12</td>\n",
       "      <td>1</td>\n",
       "      <td>4</td>\n",
       "      <td>5</td>\n",
       "      <td>210</td>\n",
       "      <td>110.250</td>\n",
       "      <td>1160.250</td>\n",
       "      <td>Flagship store</td>\n",
       "      <td>1</td>\n",
       "      <td>Bags</td>\n",
       "      <td>Mens</td>\n",
       "    </tr>\n",
       "    <tr>\n",
       "      <th>3</th>\n",
       "      <td>268408</td>\n",
       "      <td>1970-01-02</td>\n",
       "      <td>M</td>\n",
       "      <td>4</td>\n",
       "      <td>28810141075</td>\n",
       "      <td>268408</td>\n",
       "      <td>2013-09-02</td>\n",
       "      <td>10</td>\n",
       "      <td>6</td>\n",
       "      <td>2</td>\n",
       "      <td>813</td>\n",
       "      <td>170.730</td>\n",
       "      <td>1796.730</td>\n",
       "      <td>TeleShop</td>\n",
       "      <td>10</td>\n",
       "      <td>Home and kitchen</td>\n",
       "      <td>Kitchen</td>\n",
       "    </tr>\n",
       "    <tr>\n",
       "      <th>4</th>\n",
       "      <td>268408</td>\n",
       "      <td>1970-01-02</td>\n",
       "      <td>M</td>\n",
       "      <td>4</td>\n",
       "      <td>64633435931</td>\n",
       "      <td>268408</td>\n",
       "      <td>2013-05-06</td>\n",
       "      <td>4</td>\n",
       "      <td>2</td>\n",
       "      <td>3</td>\n",
       "      <td>312</td>\n",
       "      <td>98.280</td>\n",
       "      <td>1034.280</td>\n",
       "      <td>Flagship store</td>\n",
       "      <td>4</td>\n",
       "      <td>Footwear</td>\n",
       "      <td>Kids</td>\n",
       "    </tr>\n",
       "  </tbody>\n",
       "</table>\n",
       "</div>"
      ],
      "text/plain": [
       "   customer_Id        DOB Gender  city_code  transaction_id  cust_id  \\\n",
       "0       268408 1970-01-02      M          4     87243835584   268408   \n",
       "1       268408 1970-01-02      M          4     16197868036   268408   \n",
       "2       268408 1970-01-02      M          4     16197868036   268408   \n",
       "3       268408 1970-01-02      M          4     28810141075   268408   \n",
       "4       268408 1970-01-02      M          4     64633435931   268408   \n",
       "\n",
       "   tran_date  prod_subcat_code  prod_cat_code  Qty  Rate      Tax  total_amt  \\\n",
       "0 2014-01-13                 7              5    5   187   98.175   1033.175   \n",
       "1 2013-12-16                 1              4   -5  -210  110.250  -1160.250   \n",
       "2 2013-12-12                 1              4    5   210  110.250   1160.250   \n",
       "3 2013-09-02                10              6    2   813  170.730   1796.730   \n",
       "4 2013-05-06                 4              2    3   312   98.280   1034.280   \n",
       "\n",
       "       Store_type  prod_sub_cat_code          prod_cat prod_subcat  \n",
       "0        TeleShop                  7             Books     Fiction  \n",
       "1  Flagship store                  1              Bags        Mens  \n",
       "2  Flagship store                  1              Bags        Mens  \n",
       "3        TeleShop                 10  Home and kitchen     Kitchen  \n",
       "4  Flagship store                  4          Footwear        Kids  "
      ]
     },
     "execution_count": 10,
     "metadata": {},
     "output_type": "execute_result"
    }
   ],
   "source": [
    "Customer_Final.head()"
   ]
  },
  {
   "cell_type": "markdown",
   "id": "06f9169f",
   "metadata": {},
   "source": [
    "#### Prepare a summary report for the merged data set"
   ]
  },
  {
   "cell_type": "markdown",
   "id": "b4ba0258",
   "metadata": {},
   "source": [
    "##### a. Get the column names and their corresponding data types"
   ]
  },
  {
   "cell_type": "code",
   "execution_count": 11,
   "id": "d32dc661",
   "metadata": {},
   "outputs": [
    {
     "data": {
      "text/plain": [
       "customer_Id                   int64\n",
       "DOB                  datetime64[ns]\n",
       "Gender                       object\n",
       "city_code                     Int64\n",
       "transaction_id                int64\n",
       "cust_id                       int64\n",
       "tran_date            datetime64[ns]\n",
       "prod_subcat_code              int64\n",
       "prod_cat_code                 int64\n",
       "Qty                           int64\n",
       "Rate                          int64\n",
       "Tax                         float64\n",
       "total_amt                   float64\n",
       "Store_type                   object\n",
       "prod_sub_cat_code             int64\n",
       "prod_cat                     object\n",
       "prod_subcat                  object\n",
       "dtype: object"
      ]
     },
     "execution_count": 11,
     "metadata": {},
     "output_type": "execute_result"
    }
   ],
   "source": [
    "Customer_Final.dtypes"
   ]
  },
  {
   "cell_type": "markdown",
   "id": "756c6da6",
   "metadata": {},
   "source": [
    "##### b. Top/Bottom 10 observations"
   ]
  },
  {
   "cell_type": "code",
   "execution_count": 12,
   "id": "e26f7fef",
   "metadata": {},
   "outputs": [
    {
     "data": {
      "text/html": [
       "<div>\n",
       "<style scoped>\n",
       "    .dataframe tbody tr th:only-of-type {\n",
       "        vertical-align: middle;\n",
       "    }\n",
       "\n",
       "    .dataframe tbody tr th {\n",
       "        vertical-align: top;\n",
       "    }\n",
       "\n",
       "    .dataframe thead th {\n",
       "        text-align: right;\n",
       "    }\n",
       "</style>\n",
       "<table border=\"1\" class=\"dataframe\">\n",
       "  <thead>\n",
       "    <tr style=\"text-align: right;\">\n",
       "      <th></th>\n",
       "      <th>customer_Id</th>\n",
       "      <th>DOB</th>\n",
       "      <th>Gender</th>\n",
       "      <th>city_code</th>\n",
       "      <th>transaction_id</th>\n",
       "      <th>cust_id</th>\n",
       "      <th>tran_date</th>\n",
       "      <th>prod_subcat_code</th>\n",
       "      <th>prod_cat_code</th>\n",
       "      <th>Qty</th>\n",
       "      <th>Rate</th>\n",
       "      <th>Tax</th>\n",
       "      <th>total_amt</th>\n",
       "      <th>Store_type</th>\n",
       "      <th>prod_sub_cat_code</th>\n",
       "      <th>prod_cat</th>\n",
       "      <th>prod_subcat</th>\n",
       "    </tr>\n",
       "  </thead>\n",
       "  <tbody>\n",
       "    <tr>\n",
       "      <th>0</th>\n",
       "      <td>268408</td>\n",
       "      <td>1970-01-02</td>\n",
       "      <td>M</td>\n",
       "      <td>4</td>\n",
       "      <td>87243835584</td>\n",
       "      <td>268408</td>\n",
       "      <td>2014-01-13</td>\n",
       "      <td>7</td>\n",
       "      <td>5</td>\n",
       "      <td>5</td>\n",
       "      <td>187</td>\n",
       "      <td>98.175</td>\n",
       "      <td>1033.175</td>\n",
       "      <td>TeleShop</td>\n",
       "      <td>7</td>\n",
       "      <td>Books</td>\n",
       "      <td>Fiction</td>\n",
       "    </tr>\n",
       "    <tr>\n",
       "      <th>1</th>\n",
       "      <td>268408</td>\n",
       "      <td>1970-01-02</td>\n",
       "      <td>M</td>\n",
       "      <td>4</td>\n",
       "      <td>16197868036</td>\n",
       "      <td>268408</td>\n",
       "      <td>2013-12-16</td>\n",
       "      <td>1</td>\n",
       "      <td>4</td>\n",
       "      <td>-5</td>\n",
       "      <td>-210</td>\n",
       "      <td>110.250</td>\n",
       "      <td>-1160.250</td>\n",
       "      <td>Flagship store</td>\n",
       "      <td>1</td>\n",
       "      <td>Bags</td>\n",
       "      <td>Mens</td>\n",
       "    </tr>\n",
       "    <tr>\n",
       "      <th>2</th>\n",
       "      <td>268408</td>\n",
       "      <td>1970-01-02</td>\n",
       "      <td>M</td>\n",
       "      <td>4</td>\n",
       "      <td>16197868036</td>\n",
       "      <td>268408</td>\n",
       "      <td>2013-12-12</td>\n",
       "      <td>1</td>\n",
       "      <td>4</td>\n",
       "      <td>5</td>\n",
       "      <td>210</td>\n",
       "      <td>110.250</td>\n",
       "      <td>1160.250</td>\n",
       "      <td>Flagship store</td>\n",
       "      <td>1</td>\n",
       "      <td>Bags</td>\n",
       "      <td>Mens</td>\n",
       "    </tr>\n",
       "    <tr>\n",
       "      <th>3</th>\n",
       "      <td>268408</td>\n",
       "      <td>1970-01-02</td>\n",
       "      <td>M</td>\n",
       "      <td>4</td>\n",
       "      <td>28810141075</td>\n",
       "      <td>268408</td>\n",
       "      <td>2013-09-02</td>\n",
       "      <td>10</td>\n",
       "      <td>6</td>\n",
       "      <td>2</td>\n",
       "      <td>813</td>\n",
       "      <td>170.730</td>\n",
       "      <td>1796.730</td>\n",
       "      <td>TeleShop</td>\n",
       "      <td>10</td>\n",
       "      <td>Home and kitchen</td>\n",
       "      <td>Kitchen</td>\n",
       "    </tr>\n",
       "    <tr>\n",
       "      <th>4</th>\n",
       "      <td>268408</td>\n",
       "      <td>1970-01-02</td>\n",
       "      <td>M</td>\n",
       "      <td>4</td>\n",
       "      <td>64633435931</td>\n",
       "      <td>268408</td>\n",
       "      <td>2013-05-06</td>\n",
       "      <td>4</td>\n",
       "      <td>2</td>\n",
       "      <td>3</td>\n",
       "      <td>312</td>\n",
       "      <td>98.280</td>\n",
       "      <td>1034.280</td>\n",
       "      <td>Flagship store</td>\n",
       "      <td>4</td>\n",
       "      <td>Footwear</td>\n",
       "      <td>Kids</td>\n",
       "    </tr>\n",
       "    <tr>\n",
       "      <th>5</th>\n",
       "      <td>268408</td>\n",
       "      <td>1970-01-02</td>\n",
       "      <td>M</td>\n",
       "      <td>4</td>\n",
       "      <td>56902862040</td>\n",
       "      <td>268408</td>\n",
       "      <td>2013-01-30</td>\n",
       "      <td>9</td>\n",
       "      <td>3</td>\n",
       "      <td>5</td>\n",
       "      <td>868</td>\n",
       "      <td>455.700</td>\n",
       "      <td>4795.700</td>\n",
       "      <td>e-Shop</td>\n",
       "      <td>9</td>\n",
       "      <td>Electronics</td>\n",
       "      <td>Cameras</td>\n",
       "    </tr>\n",
       "    <tr>\n",
       "      <th>6</th>\n",
       "      <td>268408</td>\n",
       "      <td>1970-01-02</td>\n",
       "      <td>M</td>\n",
       "      <td>4</td>\n",
       "      <td>56844530655</td>\n",
       "      <td>268408</td>\n",
       "      <td>2012-10-14</td>\n",
       "      <td>1</td>\n",
       "      <td>2</td>\n",
       "      <td>5</td>\n",
       "      <td>1175</td>\n",
       "      <td>616.875</td>\n",
       "      <td>6491.875</td>\n",
       "      <td>MBR</td>\n",
       "      <td>1</td>\n",
       "      <td>Footwear</td>\n",
       "      <td>Mens</td>\n",
       "    </tr>\n",
       "    <tr>\n",
       "      <th>7</th>\n",
       "      <td>268408</td>\n",
       "      <td>1970-01-02</td>\n",
       "      <td>M</td>\n",
       "      <td>4</td>\n",
       "      <td>19516063887</td>\n",
       "      <td>268408</td>\n",
       "      <td>2012-09-07</td>\n",
       "      <td>10</td>\n",
       "      <td>3</td>\n",
       "      <td>4</td>\n",
       "      <td>650</td>\n",
       "      <td>273.000</td>\n",
       "      <td>2873.000</td>\n",
       "      <td>e-Shop</td>\n",
       "      <td>10</td>\n",
       "      <td>Electronics</td>\n",
       "      <td>Audio and video</td>\n",
       "    </tr>\n",
       "    <tr>\n",
       "      <th>8</th>\n",
       "      <td>268408</td>\n",
       "      <td>1970-01-02</td>\n",
       "      <td>M</td>\n",
       "      <td>4</td>\n",
       "      <td>12644501524</td>\n",
       "      <td>268408</td>\n",
       "      <td>2012-08-14</td>\n",
       "      <td>4</td>\n",
       "      <td>4</td>\n",
       "      <td>3</td>\n",
       "      <td>321</td>\n",
       "      <td>101.115</td>\n",
       "      <td>1064.115</td>\n",
       "      <td>TeleShop</td>\n",
       "      <td>4</td>\n",
       "      <td>Bags</td>\n",
       "      <td>Women</td>\n",
       "    </tr>\n",
       "    <tr>\n",
       "      <th>9</th>\n",
       "      <td>268408</td>\n",
       "      <td>1970-01-02</td>\n",
       "      <td>M</td>\n",
       "      <td>4</td>\n",
       "      <td>63314547725</td>\n",
       "      <td>268408</td>\n",
       "      <td>2012-04-26</td>\n",
       "      <td>1</td>\n",
       "      <td>1</td>\n",
       "      <td>1</td>\n",
       "      <td>806</td>\n",
       "      <td>84.630</td>\n",
       "      <td>890.630</td>\n",
       "      <td>Flagship store</td>\n",
       "      <td>1</td>\n",
       "      <td>Clothing</td>\n",
       "      <td>Women</td>\n",
       "    </tr>\n",
       "  </tbody>\n",
       "</table>\n",
       "</div>"
      ],
      "text/plain": [
       "   customer_Id        DOB Gender  city_code  transaction_id  cust_id  \\\n",
       "0       268408 1970-01-02      M          4     87243835584   268408   \n",
       "1       268408 1970-01-02      M          4     16197868036   268408   \n",
       "2       268408 1970-01-02      M          4     16197868036   268408   \n",
       "3       268408 1970-01-02      M          4     28810141075   268408   \n",
       "4       268408 1970-01-02      M          4     64633435931   268408   \n",
       "5       268408 1970-01-02      M          4     56902862040   268408   \n",
       "6       268408 1970-01-02      M          4     56844530655   268408   \n",
       "7       268408 1970-01-02      M          4     19516063887   268408   \n",
       "8       268408 1970-01-02      M          4     12644501524   268408   \n",
       "9       268408 1970-01-02      M          4     63314547725   268408   \n",
       "\n",
       "   tran_date  prod_subcat_code  prod_cat_code  Qty  Rate      Tax  total_amt  \\\n",
       "0 2014-01-13                 7              5    5   187   98.175   1033.175   \n",
       "1 2013-12-16                 1              4   -5  -210  110.250  -1160.250   \n",
       "2 2013-12-12                 1              4    5   210  110.250   1160.250   \n",
       "3 2013-09-02                10              6    2   813  170.730   1796.730   \n",
       "4 2013-05-06                 4              2    3   312   98.280   1034.280   \n",
       "5 2013-01-30                 9              3    5   868  455.700   4795.700   \n",
       "6 2012-10-14                 1              2    5  1175  616.875   6491.875   \n",
       "7 2012-09-07                10              3    4   650  273.000   2873.000   \n",
       "8 2012-08-14                 4              4    3   321  101.115   1064.115   \n",
       "9 2012-04-26                 1              1    1   806   84.630    890.630   \n",
       "\n",
       "       Store_type  prod_sub_cat_code          prod_cat      prod_subcat  \n",
       "0        TeleShop                  7             Books          Fiction  \n",
       "1  Flagship store                  1              Bags             Mens  \n",
       "2  Flagship store                  1              Bags             Mens  \n",
       "3        TeleShop                 10  Home and kitchen          Kitchen  \n",
       "4  Flagship store                  4          Footwear             Kids  \n",
       "5          e-Shop                  9       Electronics          Cameras  \n",
       "6             MBR                  1          Footwear             Mens  \n",
       "7          e-Shop                 10       Electronics  Audio and video  \n",
       "8        TeleShop                  4              Bags            Women  \n",
       "9  Flagship store                  1          Clothing            Women  "
      ]
     },
     "execution_count": 12,
     "metadata": {},
     "output_type": "execute_result"
    }
   ],
   "source": [
    "Customer_Final.head(10)"
   ]
  },
  {
   "cell_type": "code",
   "execution_count": 13,
   "id": "fb1db760",
   "metadata": {},
   "outputs": [
    {
     "data": {
      "text/html": [
       "<div>\n",
       "<style scoped>\n",
       "    .dataframe tbody tr th:only-of-type {\n",
       "        vertical-align: middle;\n",
       "    }\n",
       "\n",
       "    .dataframe tbody tr th {\n",
       "        vertical-align: top;\n",
       "    }\n",
       "\n",
       "    .dataframe thead th {\n",
       "        text-align: right;\n",
       "    }\n",
       "</style>\n",
       "<table border=\"1\" class=\"dataframe\">\n",
       "  <thead>\n",
       "    <tr style=\"text-align: right;\">\n",
       "      <th></th>\n",
       "      <th>customer_Id</th>\n",
       "      <th>DOB</th>\n",
       "      <th>Gender</th>\n",
       "      <th>city_code</th>\n",
       "      <th>transaction_id</th>\n",
       "      <th>cust_id</th>\n",
       "      <th>tran_date</th>\n",
       "      <th>prod_subcat_code</th>\n",
       "      <th>prod_cat_code</th>\n",
       "      <th>Qty</th>\n",
       "      <th>Rate</th>\n",
       "      <th>Tax</th>\n",
       "      <th>total_amt</th>\n",
       "      <th>Store_type</th>\n",
       "      <th>prod_sub_cat_code</th>\n",
       "      <th>prod_cat</th>\n",
       "      <th>prod_subcat</th>\n",
       "    </tr>\n",
       "  </thead>\n",
       "  <tbody>\n",
       "    <tr>\n",
       "      <th>23043</th>\n",
       "      <td>270476</td>\n",
       "      <td>1992-12-25</td>\n",
       "      <td>F</td>\n",
       "      <td>3</td>\n",
       "      <td>78034405353</td>\n",
       "      <td>270476</td>\n",
       "      <td>2013-08-13</td>\n",
       "      <td>11</td>\n",
       "      <td>6</td>\n",
       "      <td>1</td>\n",
       "      <td>971</td>\n",
       "      <td>101.955</td>\n",
       "      <td>1072.955</td>\n",
       "      <td>TeleShop</td>\n",
       "      <td>11</td>\n",
       "      <td>Home and kitchen</td>\n",
       "      <td>Bath</td>\n",
       "    </tr>\n",
       "    <tr>\n",
       "      <th>23044</th>\n",
       "      <td>270476</td>\n",
       "      <td>1992-12-25</td>\n",
       "      <td>F</td>\n",
       "      <td>3</td>\n",
       "      <td>3359888057</td>\n",
       "      <td>270476</td>\n",
       "      <td>2013-03-16</td>\n",
       "      <td>10</td>\n",
       "      <td>3</td>\n",
       "      <td>4</td>\n",
       "      <td>361</td>\n",
       "      <td>151.620</td>\n",
       "      <td>1595.620</td>\n",
       "      <td>MBR</td>\n",
       "      <td>10</td>\n",
       "      <td>Electronics</td>\n",
       "      <td>Audio and video</td>\n",
       "    </tr>\n",
       "    <tr>\n",
       "      <th>23045</th>\n",
       "      <td>270476</td>\n",
       "      <td>1992-12-25</td>\n",
       "      <td>F</td>\n",
       "      <td>3</td>\n",
       "      <td>22883386455</td>\n",
       "      <td>270476</td>\n",
       "      <td>2012-05-22</td>\n",
       "      <td>4</td>\n",
       "      <td>2</td>\n",
       "      <td>4</td>\n",
       "      <td>898</td>\n",
       "      <td>377.160</td>\n",
       "      <td>3969.160</td>\n",
       "      <td>Flagship store</td>\n",
       "      <td>4</td>\n",
       "      <td>Footwear</td>\n",
       "      <td>Kids</td>\n",
       "    </tr>\n",
       "    <tr>\n",
       "      <th>23046</th>\n",
       "      <td>270476</td>\n",
       "      <td>1992-12-25</td>\n",
       "      <td>F</td>\n",
       "      <td>3</td>\n",
       "      <td>19725194268</td>\n",
       "      <td>270476</td>\n",
       "      <td>2012-02-21</td>\n",
       "      <td>4</td>\n",
       "      <td>4</td>\n",
       "      <td>4</td>\n",
       "      <td>618</td>\n",
       "      <td>259.560</td>\n",
       "      <td>2731.560</td>\n",
       "      <td>e-Shop</td>\n",
       "      <td>4</td>\n",
       "      <td>Bags</td>\n",
       "      <td>Women</td>\n",
       "    </tr>\n",
       "    <tr>\n",
       "      <th>23047</th>\n",
       "      <td>270476</td>\n",
       "      <td>1992-12-25</td>\n",
       "      <td>F</td>\n",
       "      <td>3</td>\n",
       "      <td>85475160771</td>\n",
       "      <td>270476</td>\n",
       "      <td>2011-08-09</td>\n",
       "      <td>5</td>\n",
       "      <td>3</td>\n",
       "      <td>5</td>\n",
       "      <td>1354</td>\n",
       "      <td>710.850</td>\n",
       "      <td>7480.850</td>\n",
       "      <td>Flagship store</td>\n",
       "      <td>5</td>\n",
       "      <td>Electronics</td>\n",
       "      <td>Computers</td>\n",
       "    </tr>\n",
       "    <tr>\n",
       "      <th>23048</th>\n",
       "      <td>269626</td>\n",
       "      <td>1992-12-27</td>\n",
       "      <td>F</td>\n",
       "      <td>5</td>\n",
       "      <td>71369029396</td>\n",
       "      <td>269626</td>\n",
       "      <td>2011-10-18</td>\n",
       "      <td>12</td>\n",
       "      <td>6</td>\n",
       "      <td>1</td>\n",
       "      <td>638</td>\n",
       "      <td>66.990</td>\n",
       "      <td>704.990</td>\n",
       "      <td>e-Shop</td>\n",
       "      <td>12</td>\n",
       "      <td>Home and kitchen</td>\n",
       "      <td>Tools</td>\n",
       "    </tr>\n",
       "    <tr>\n",
       "      <th>23049</th>\n",
       "      <td>269626</td>\n",
       "      <td>1992-12-27</td>\n",
       "      <td>F</td>\n",
       "      <td>5</td>\n",
       "      <td>94134051896</td>\n",
       "      <td>269626</td>\n",
       "      <td>2011-07-07</td>\n",
       "      <td>3</td>\n",
       "      <td>1</td>\n",
       "      <td>3</td>\n",
       "      <td>1078</td>\n",
       "      <td>339.570</td>\n",
       "      <td>3573.570</td>\n",
       "      <td>MBR</td>\n",
       "      <td>3</td>\n",
       "      <td>Clothing</td>\n",
       "      <td>Kids</td>\n",
       "    </tr>\n",
       "    <tr>\n",
       "      <th>23050</th>\n",
       "      <td>274308</td>\n",
       "      <td>1992-12-29</td>\n",
       "      <td>F</td>\n",
       "      <td>5</td>\n",
       "      <td>26208690928</td>\n",
       "      <td>274308</td>\n",
       "      <td>2012-10-22</td>\n",
       "      <td>1</td>\n",
       "      <td>2</td>\n",
       "      <td>2</td>\n",
       "      <td>898</td>\n",
       "      <td>188.580</td>\n",
       "      <td>1984.580</td>\n",
       "      <td>MBR</td>\n",
       "      <td>1</td>\n",
       "      <td>Footwear</td>\n",
       "      <td>Mens</td>\n",
       "    </tr>\n",
       "    <tr>\n",
       "      <th>23051</th>\n",
       "      <td>274308</td>\n",
       "      <td>1992-12-29</td>\n",
       "      <td>F</td>\n",
       "      <td>5</td>\n",
       "      <td>57358822237</td>\n",
       "      <td>274308</td>\n",
       "      <td>2012-09-05</td>\n",
       "      <td>1</td>\n",
       "      <td>2</td>\n",
       "      <td>4</td>\n",
       "      <td>876</td>\n",
       "      <td>367.920</td>\n",
       "      <td>3871.920</td>\n",
       "      <td>e-Shop</td>\n",
       "      <td>1</td>\n",
       "      <td>Footwear</td>\n",
       "      <td>Mens</td>\n",
       "    </tr>\n",
       "    <tr>\n",
       "      <th>23052</th>\n",
       "      <td>274308</td>\n",
       "      <td>1992-12-29</td>\n",
       "      <td>F</td>\n",
       "      <td>5</td>\n",
       "      <td>58160544337</td>\n",
       "      <td>274308</td>\n",
       "      <td>2012-07-04</td>\n",
       "      <td>12</td>\n",
       "      <td>5</td>\n",
       "      <td>5</td>\n",
       "      <td>588</td>\n",
       "      <td>308.700</td>\n",
       "      <td>3248.700</td>\n",
       "      <td>e-Shop</td>\n",
       "      <td>12</td>\n",
       "      <td>Books</td>\n",
       "      <td>Academic</td>\n",
       "    </tr>\n",
       "  </tbody>\n",
       "</table>\n",
       "</div>"
      ],
      "text/plain": [
       "       customer_Id        DOB Gender  city_code  transaction_id  cust_id  \\\n",
       "23043       270476 1992-12-25      F          3     78034405353   270476   \n",
       "23044       270476 1992-12-25      F          3      3359888057   270476   \n",
       "23045       270476 1992-12-25      F          3     22883386455   270476   \n",
       "23046       270476 1992-12-25      F          3     19725194268   270476   \n",
       "23047       270476 1992-12-25      F          3     85475160771   270476   \n",
       "23048       269626 1992-12-27      F          5     71369029396   269626   \n",
       "23049       269626 1992-12-27      F          5     94134051896   269626   \n",
       "23050       274308 1992-12-29      F          5     26208690928   274308   \n",
       "23051       274308 1992-12-29      F          5     57358822237   274308   \n",
       "23052       274308 1992-12-29      F          5     58160544337   274308   \n",
       "\n",
       "       tran_date  prod_subcat_code  prod_cat_code  Qty  Rate      Tax  \\\n",
       "23043 2013-08-13                11              6    1   971  101.955   \n",
       "23044 2013-03-16                10              3    4   361  151.620   \n",
       "23045 2012-05-22                 4              2    4   898  377.160   \n",
       "23046 2012-02-21                 4              4    4   618  259.560   \n",
       "23047 2011-08-09                 5              3    5  1354  710.850   \n",
       "23048 2011-10-18                12              6    1   638   66.990   \n",
       "23049 2011-07-07                 3              1    3  1078  339.570   \n",
       "23050 2012-10-22                 1              2    2   898  188.580   \n",
       "23051 2012-09-05                 1              2    4   876  367.920   \n",
       "23052 2012-07-04                12              5    5   588  308.700   \n",
       "\n",
       "       total_amt      Store_type  prod_sub_cat_code          prod_cat  \\\n",
       "23043   1072.955        TeleShop                 11  Home and kitchen   \n",
       "23044   1595.620             MBR                 10       Electronics   \n",
       "23045   3969.160  Flagship store                  4          Footwear   \n",
       "23046   2731.560          e-Shop                  4              Bags   \n",
       "23047   7480.850  Flagship store                  5       Electronics   \n",
       "23048    704.990          e-Shop                 12  Home and kitchen   \n",
       "23049   3573.570             MBR                  3          Clothing   \n",
       "23050   1984.580             MBR                  1          Footwear   \n",
       "23051   3871.920          e-Shop                  1          Footwear   \n",
       "23052   3248.700          e-Shop                 12             Books   \n",
       "\n",
       "           prod_subcat  \n",
       "23043             Bath  \n",
       "23044  Audio and video  \n",
       "23045             Kids  \n",
       "23046            Women  \n",
       "23047        Computers  \n",
       "23048            Tools  \n",
       "23049             Kids  \n",
       "23050             Mens  \n",
       "23051             Mens  \n",
       "23052         Academic  "
      ]
     },
     "execution_count": 13,
     "metadata": {},
     "output_type": "execute_result"
    }
   ],
   "source": [
    "Customer_Final.tail(10)"
   ]
  },
  {
   "cell_type": "markdown",
   "id": "ea5c97a6",
   "metadata": {},
   "source": [
    "##### c. “Five-number summary” for continuous variables (min, Q1, median, Q3 and max)"
   ]
  },
  {
   "cell_type": "code",
   "execution_count": 14,
   "id": "b44e9565",
   "metadata": {},
   "outputs": [
    {
     "data": {
      "text/html": [
       "<div>\n",
       "<style scoped>\n",
       "    .dataframe tbody tr th:only-of-type {\n",
       "        vertical-align: middle;\n",
       "    }\n",
       "\n",
       "    .dataframe tbody tr th {\n",
       "        vertical-align: top;\n",
       "    }\n",
       "\n",
       "    .dataframe thead th {\n",
       "        text-align: right;\n",
       "    }\n",
       "</style>\n",
       "<table border=\"1\" class=\"dataframe\">\n",
       "  <thead>\n",
       "    <tr style=\"text-align: right;\">\n",
       "      <th></th>\n",
       "      <th>Qty</th>\n",
       "      <th>Rate</th>\n",
       "      <th>Tax</th>\n",
       "      <th>total_amt</th>\n",
       "    </tr>\n",
       "  </thead>\n",
       "  <tbody>\n",
       "    <tr>\n",
       "      <th>mean</th>\n",
       "      <td>2.432395</td>\n",
       "      <td>636.369713</td>\n",
       "      <td>248.667192</td>\n",
       "      <td>2107.308002</td>\n",
       "    </tr>\n",
       "    <tr>\n",
       "      <th>min</th>\n",
       "      <td>-5.000000</td>\n",
       "      <td>-1499.000000</td>\n",
       "      <td>7.350000</td>\n",
       "      <td>-8270.925000</td>\n",
       "    </tr>\n",
       "    <tr>\n",
       "      <th>Q1</th>\n",
       "      <td>1.000000</td>\n",
       "      <td>312.000000</td>\n",
       "      <td>98.280000</td>\n",
       "      <td>762.450000</td>\n",
       "    </tr>\n",
       "    <tr>\n",
       "      <th>Q3</th>\n",
       "      <td>4.000000</td>\n",
       "      <td>1109.000000</td>\n",
       "      <td>365.715000</td>\n",
       "      <td>3569.150000</td>\n",
       "    </tr>\n",
       "    <tr>\n",
       "      <th>max</th>\n",
       "      <td>5.000000</td>\n",
       "      <td>1500.000000</td>\n",
       "      <td>787.500000</td>\n",
       "      <td>8287.500000</td>\n",
       "    </tr>\n",
       "  </tbody>\n",
       "</table>\n",
       "</div>"
      ],
      "text/plain": [
       "           Qty         Rate         Tax    total_amt\n",
       "mean  2.432395   636.369713  248.667192  2107.308002\n",
       "min  -5.000000 -1499.000000    7.350000 -8270.925000\n",
       "Q1    1.000000   312.000000   98.280000   762.450000\n",
       "Q3    4.000000  1109.000000  365.715000  3569.150000\n",
       "max   5.000000  1500.000000  787.500000  8287.500000"
      ]
     },
     "execution_count": 14,
     "metadata": {},
     "output_type": "execute_result"
    }
   ],
   "source": [
    "# “Five-number summary” for continuous variables (relevant variables: 'Qty', 'Rate', 'Tax', 'total_amt') \n",
    "\n",
    "desc = Customer_Final.loc[:, ['Qty', 'Rate', 'Tax', 'total_amt']].describe(percentiles = [.25, .75])\n",
    "desc = desc.T\n",
    "desc.drop(labels = ['count', 'std', '50%'], inplace = True, axis = 1)\n",
    "desc.rename(columns = {'25%' : 'Q1', '75%' : 'Q3'}, inplace = True)\n",
    "desc = desc.T\n",
    "desc"
   ]
  },
  {
   "cell_type": "code",
   "execution_count": 15,
   "id": "eb247a6a",
   "metadata": {},
   "outputs": [
    {
     "data": {
      "text/html": [
       "<div>\n",
       "<style scoped>\n",
       "    .dataframe tbody tr th:only-of-type {\n",
       "        vertical-align: middle;\n",
       "    }\n",
       "\n",
       "    .dataframe tbody tr th {\n",
       "        vertical-align: top;\n",
       "    }\n",
       "\n",
       "    .dataframe thead th {\n",
       "        text-align: right;\n",
       "    }\n",
       "</style>\n",
       "<table border=\"1\" class=\"dataframe\">\n",
       "  <thead>\n",
       "    <tr style=\"text-align: right;\">\n",
       "      <th></th>\n",
       "      <th>customer_Id</th>\n",
       "      <th>DOB</th>\n",
       "      <th>city_code</th>\n",
       "      <th>transaction_id</th>\n",
       "      <th>cust_id</th>\n",
       "      <th>tran_date</th>\n",
       "      <th>prod_subcat_code</th>\n",
       "      <th>prod_cat_code</th>\n",
       "      <th>Qty</th>\n",
       "      <th>Rate</th>\n",
       "      <th>Tax</th>\n",
       "      <th>total_amt</th>\n",
       "      <th>prod_sub_cat_code</th>\n",
       "    </tr>\n",
       "  </thead>\n",
       "  <tbody>\n",
       "    <tr>\n",
       "      <th>mean</th>\n",
       "      <td>271021.746497</td>\n",
       "      <td>1981-07-14 21:22:57.816336256</td>\n",
       "      <td>5.482534</td>\n",
       "      <td>50073480358.450485</td>\n",
       "      <td>271021.746497</td>\n",
       "      <td>2012-08-09 05:21:26.617793792</td>\n",
       "      <td>6.149091</td>\n",
       "      <td>3.763632</td>\n",
       "      <td>2.432395</td>\n",
       "      <td>636.369713</td>\n",
       "      <td>248.667192</td>\n",
       "      <td>2107.308002</td>\n",
       "      <td>6.149091</td>\n",
       "    </tr>\n",
       "    <tr>\n",
       "      <th>min</th>\n",
       "      <td>266783.0</td>\n",
       "      <td>1970-01-02 00:00:00</td>\n",
       "      <td>1.0</td>\n",
       "      <td>3268991.0</td>\n",
       "      <td>266783.0</td>\n",
       "      <td>2011-01-25 00:00:00</td>\n",
       "      <td>1.0</td>\n",
       "      <td>1.0</td>\n",
       "      <td>-5.0</td>\n",
       "      <td>-1499.0</td>\n",
       "      <td>7.35</td>\n",
       "      <td>-8270.925</td>\n",
       "      <td>1.0</td>\n",
       "    </tr>\n",
       "    <tr>\n",
       "      <th>Q1</th>\n",
       "      <td>268935.0</td>\n",
       "      <td>1975-09-26 00:00:00</td>\n",
       "      <td>3.0</td>\n",
       "      <td>24938639453.0</td>\n",
       "      <td>268935.0</td>\n",
       "      <td>2011-11-03 00:00:00</td>\n",
       "      <td>3.0</td>\n",
       "      <td>2.0</td>\n",
       "      <td>1.0</td>\n",
       "      <td>312.0</td>\n",
       "      <td>98.28</td>\n",
       "      <td>762.45</td>\n",
       "      <td>3.0</td>\n",
       "    </tr>\n",
       "    <tr>\n",
       "      <th>Q3</th>\n",
       "      <td>273114.0</td>\n",
       "      <td>1987-06-05 00:00:00</td>\n",
       "      <td>8.0</td>\n",
       "      <td>75329995679.0</td>\n",
       "      <td>273114.0</td>\n",
       "      <td>2013-05-17 00:00:00</td>\n",
       "      <td>10.0</td>\n",
       "      <td>5.0</td>\n",
       "      <td>4.0</td>\n",
       "      <td>1109.0</td>\n",
       "      <td>365.715</td>\n",
       "      <td>3569.15</td>\n",
       "      <td>10.0</td>\n",
       "    </tr>\n",
       "    <tr>\n",
       "      <th>max</th>\n",
       "      <td>275265.0</td>\n",
       "      <td>1992-12-29 00:00:00</td>\n",
       "      <td>10.0</td>\n",
       "      <td>99987549630.0</td>\n",
       "      <td>275265.0</td>\n",
       "      <td>2014-02-28 00:00:00</td>\n",
       "      <td>12.0</td>\n",
       "      <td>6.0</td>\n",
       "      <td>5.0</td>\n",
       "      <td>1500.0</td>\n",
       "      <td>787.5</td>\n",
       "      <td>8287.5</td>\n",
       "      <td>12.0</td>\n",
       "    </tr>\n",
       "  </tbody>\n",
       "</table>\n",
       "</div>"
      ],
      "text/plain": [
       "        customer_Id                            DOB city_code  \\\n",
       "mean  271021.746497  1981-07-14 21:22:57.816336256  5.482534   \n",
       "min        266783.0            1970-01-02 00:00:00       1.0   \n",
       "Q1         268935.0            1975-09-26 00:00:00       3.0   \n",
       "Q3         273114.0            1987-06-05 00:00:00       8.0   \n",
       "max        275265.0            1992-12-29 00:00:00      10.0   \n",
       "\n",
       "          transaction_id        cust_id                      tran_date  \\\n",
       "mean  50073480358.450485  271021.746497  2012-08-09 05:21:26.617793792   \n",
       "min            3268991.0       266783.0            2011-01-25 00:00:00   \n",
       "Q1         24938639453.0       268935.0            2011-11-03 00:00:00   \n",
       "Q3         75329995679.0       273114.0            2013-05-17 00:00:00   \n",
       "max        99987549630.0       275265.0            2014-02-28 00:00:00   \n",
       "\n",
       "     prod_subcat_code prod_cat_code       Qty        Rate         Tax  \\\n",
       "mean         6.149091      3.763632  2.432395  636.369713  248.667192   \n",
       "min               1.0           1.0      -5.0     -1499.0        7.35   \n",
       "Q1                3.0           2.0       1.0       312.0       98.28   \n",
       "Q3               10.0           5.0       4.0      1109.0     365.715   \n",
       "max              12.0           6.0       5.0      1500.0       787.5   \n",
       "\n",
       "        total_amt prod_sub_cat_code  \n",
       "mean  2107.308002          6.149091  \n",
       "min     -8270.925               1.0  \n",
       "Q1         762.45               3.0  \n",
       "Q3        3569.15              10.0  \n",
       "max        8287.5              12.0  "
      ]
     },
     "execution_count": 15,
     "metadata": {},
     "output_type": "execute_result"
    }
   ],
   "source": [
    "# “Five-number summary” for continuous variables (including irrrelevant variables) \n",
    "\n",
    "desc = Customer_Final.loc[:, :].describe(percentiles = [.25, .75])\n",
    "desc = desc.T\n",
    "desc.drop(labels = ['count', 'std', '50%'], inplace = True, axis = 1)\n",
    "desc.rename(columns = {'25%' : 'Q1', '75%' : 'Q3'}, inplace = True)\n",
    "desc = desc.T\n",
    "desc"
   ]
  },
  {
   "cell_type": "markdown",
   "id": "6a86de8b",
   "metadata": {},
   "source": [
    "##### d. Frequency tables for all the categorical variables"
   ]
  },
  {
   "cell_type": "code",
   "execution_count": 16,
   "id": "48da2214",
   "metadata": {},
   "outputs": [
    {
     "data": {
      "text/html": [
       "<div>\n",
       "<style scoped>\n",
       "    .dataframe tbody tr th:only-of-type {\n",
       "        vertical-align: middle;\n",
       "    }\n",
       "\n",
       "    .dataframe tbody tr th {\n",
       "        vertical-align: top;\n",
       "    }\n",
       "\n",
       "    .dataframe thead th {\n",
       "        text-align: right;\n",
       "    }\n",
       "</style>\n",
       "<table border=\"1\" class=\"dataframe\">\n",
       "  <thead>\n",
       "    <tr style=\"text-align: right;\">\n",
       "      <th></th>\n",
       "      <th>Gender</th>\n",
       "      <th>Store_type</th>\n",
       "      <th>prod_cat</th>\n",
       "      <th>prod_subcat</th>\n",
       "    </tr>\n",
       "  </thead>\n",
       "  <tbody>\n",
       "    <tr>\n",
       "      <th>count</th>\n",
       "      <td>23044</td>\n",
       "      <td>23053</td>\n",
       "      <td>23053</td>\n",
       "      <td>23053</td>\n",
       "    </tr>\n",
       "    <tr>\n",
       "      <th>unique</th>\n",
       "      <td>2</td>\n",
       "      <td>4</td>\n",
       "      <td>6</td>\n",
       "      <td>18</td>\n",
       "    </tr>\n",
       "    <tr>\n",
       "      <th>top</th>\n",
       "      <td>M</td>\n",
       "      <td>e-Shop</td>\n",
       "      <td>Books</td>\n",
       "      <td>Women</td>\n",
       "    </tr>\n",
       "    <tr>\n",
       "      <th>freq</th>\n",
       "      <td>11811</td>\n",
       "      <td>9311</td>\n",
       "      <td>6069</td>\n",
       "      <td>3048</td>\n",
       "    </tr>\n",
       "  </tbody>\n",
       "</table>\n",
       "</div>"
      ],
      "text/plain": [
       "       Gender Store_type prod_cat prod_subcat\n",
       "count   23044      23053    23053       23053\n",
       "unique      2          4        6          18\n",
       "top         M     e-Shop    Books       Women\n",
       "freq    11811       9311     6069        3048"
      ]
     },
     "execution_count": 16,
     "metadata": {},
     "output_type": "execute_result"
    }
   ],
   "source": [
    "Customer_Final.loc[:, Customer_Final.dtypes == object].describe()"
   ]
  },
  {
   "cell_type": "markdown",
   "id": "73ee7c5e",
   "metadata": {},
   "source": [
    "#### Generate histograms for all continuous variables and frequency bars for categorical variables."
   ]
  },
  {
   "cell_type": "code",
   "execution_count": 17,
   "id": "af7dd5a2",
   "metadata": {},
   "outputs": [
    {
     "data": {
      "image/png": "[encoded data removed]",
      "text/plain": [
       "<Figure size 640x480 with 1 Axes>"
      ]
     },
     "metadata": {},
     "output_type": "display_data"
    },
    {
     "data": {
      "image/png": "[encoded data removed]",
      "text/plain": [
       "<Figure size 640x480 with 1 Axes>"
      ]
     },
     "metadata": {},
     "output_type": "display_data"
    },
    {
     "data": {
      "image/png": "[encoded data removed]",
      "text/plain": [
       "<Figure size 640x480 with 1 Axes>"
      ]
     },
     "metadata": {},
     "output_type": "display_data"
    },
    {
     "data": {
      "image/png": "[encoded data removed]",
      "text/plain": [
       "<Figure size 640x480 with 1 Axes>"
      ]
     },
     "metadata": {},
     "output_type": "display_data"
    },
    {
     "data": {
      "image/png": "[encoded data removed]",
      "text/plain": [
       "<Figure size 640x480 with 1 Axes>"
      ]
     },
     "metadata": {},
     "output_type": "display_data"
    },
    {
     "data": {
      "image/png": "[encoded data removed]",
      "text/plain": [
       "<Figure size 640x480 with 1 Axes>"
      ]
     },
     "metadata": {},
     "output_type": "display_data"
    },
    {
     "data": {
      "image/png": "[encoded data removed]",
      "text/plain": [
       "<Figure size 640x480 with 1 Axes>"
      ]
     },
     "metadata": {},
     "output_type": "display_data"
    },
    {
     "data": {
      "image/png": "[encoded data removed]",
      "text/plain": [
       "<Figure size 640x480 with 1 Axes>"
      ]
     },
     "metadata": {},
     "output_type": "display_data"
    },
    {
     "data": {
      "image/png": "[encoded data removed]",
      "text/plain": [
       "<Figure size 640x480 with 1 Axes>"
      ]
     },
     "metadata": {},
     "output_type": "display_data"
    },
    {
     "data": {
      "image/png": "[encoded data removed]",
      "text/plain": [
       "<Figure size 640x480 with 1 Axes>"
      ]
     },
     "metadata": {},
     "output_type": "display_data"
    },
    {
     "data": {
      "image/png": "[encoded data removed]",
      "text/plain": [
       "<Figure size 640x480 with 1 Axes>"
      ]
     },
     "metadata": {},
     "output_type": "display_data"
    },
    {
     "data": {
      "image/png": "[encoded data removed]",
      "text/plain": [
       "<Figure size 640x480 with 1 Axes>"
      ]
     },
     "metadata": {},
     "output_type": "display_data"
    },
    {
     "data": {
      "image/png": "[encoded data removed]",
      "text/plain": [
       "<Figure size 640x480 with 1 Axes>"
      ]
     },
     "metadata": {},
     "output_type": "display_data"
    }
   ],
   "source": [
    "cont_var = Customer_Final.loc[:, (Customer_Final.dtypes != object)]\n",
    "\n",
    "for v in cont_var.columns:\n",
    "    Customer_Final[v].plot(kind = 'hist')\n",
    "    plt.title(v)\n",
    "    plt.show()"
   ]
  },
  {
   "cell_type": "code",
   "execution_count": 18,
   "id": "2748bd06",
   "metadata": {},
   "outputs": [
    {
     "data": {
      "image/png": "[encoded data removed]",
      "text/plain": [
       "<Figure size 800x800 with 1 Axes>"
      ]
     },
     "metadata": {},
     "output_type": "display_data"
    }
   ],
   "source": [
    "cat_var = Customer_Final.loc[:, Customer_Final.dtypes == object]\n",
    "\n",
    "plt.figure(figsize=(8,8))\n",
    "sns.countplot(x = cat_var['Gender'], palette=['skyblue', 'yellow'])\n",
    "plt.xticks(rotation='vertical')\n",
    "plt.show()"
   ]
  },
  {
   "cell_type": "code",
   "execution_count": 19,
   "id": "d55c13f1",
   "metadata": {},
   "outputs": [
    {
     "data": {
      "image/png": "[encoded data removed]",
      "text/plain": [
       "<Figure size 700x700 with 1 Axes>"
      ]
     },
     "metadata": {},
     "output_type": "display_data"
    }
   ],
   "source": [
    "plt.figure(figsize=(7,7))\n",
    "sns.countplot(x = cat_var['Store_type'], palette = ['beige', 'yellow', 'skyblue', 'grey'])\n",
    "plt.xlabel('Store Type')\n",
    "plt.xticks(rotation='vertical')\n",
    "plt.show()"
   ]
  },
  {
   "cell_type": "code",
   "execution_count": 20,
   "id": "10e0c1c9",
   "metadata": {},
   "outputs": [
    {
     "data": {
      "image/png": "[encoded data removed]",
      "text/plain": [
       "<Figure size 700x700 with 1 Axes>"
      ]
     },
     "metadata": {},
     "output_type": "display_data"
    }
   ],
   "source": [
    "plt.figure(figsize=(7,7))\n",
    "sns.countplot(x = cat_var['prod_cat'], palette = ['beige', 'yellow', 'skyblue', 'grey', 'violet', 'aqua'])\n",
    "plt.xlabel('Product Category')\n",
    "plt.xticks(rotation='vertical')\n",
    "plt.show()"
   ]
  },
  {
   "cell_type": "code",
   "execution_count": 21,
   "id": "e73fe9ba",
   "metadata": {},
   "outputs": [
    {
     "data": {
      "image/png": "[encoded data removed]",
      "text/plain": [
       "<Figure size 700x700 with 1 Axes>"
      ]
     },
     "metadata": {},
     "output_type": "display_data"
    }
   ],
   "source": [
    "plt.figure(figsize=(7,7))\n",
    "cat_var.groupby('prod_subcat')['prod_subcat'].count().plot(kind='barh')\n",
    "plt.xlabel('Count')\n",
    "plt.ylabel('Product Subcategory')\n",
    "plt.show()"
   ]
  },
  {
   "cell_type": "markdown",
   "id": "e3b43e56",
   "metadata": {},
   "source": [
    "#### Calculate the following information using the merged dataset :"
   ]
  },
  {
   "cell_type": "markdown",
   "id": "bfb07f9b",
   "metadata": {},
   "source": [
    "##### a. Time period of the available transaction data"
   ]
  },
  {
   "cell_type": "code",
   "execution_count": 22,
   "id": "d6a67d37",
   "metadata": {},
   "outputs": [
    {
     "name": "stdout",
     "output_type": "stream",
     "text": [
      " Time period of the available transaction data: \n",
      "\n",
      " equivalent to  1130  days; \n",
      " equivalent to  37  months; \n",
      " equivalent to  3  years \n"
     ]
    }
   ],
   "source": [
    "time_range = (Customer_Final['tran_date'].max() - Customer_Final['tran_date'].min())\n",
    "yr = (time_range/365).days\n",
    "mm = (time_range*0.032855).days\n",
    "print(' Time period of the available transaction data: \\n\\n', 'equivalent to ', time_range.days, ' days; \\n', \n",
    "      'equivalent to ', mm, ' months; \\n', \n",
    "      'equivalent to ', yr, ' years ', )"
   ]
  },
  {
   "cell_type": "markdown",
   "id": "cf4574ec",
   "metadata": {},
   "source": [
    "##### b. Count of transactions where the total amount of transaction was negative"
   ]
  },
  {
   "cell_type": "markdown",
   "id": "27fb745c",
   "metadata": {},
   "source": [
    "###### Solution-1: Count of transactions where the total amount of transaction was negative"
   ]
  },
  {
   "cell_type": "code",
   "execution_count": 23,
   "id": "f6bcba7b",
   "metadata": {},
   "outputs": [
    {
     "data": {
      "text/plain": [
       "2177"
      ]
     },
     "execution_count": 23,
     "metadata": {},
     "output_type": "execute_result"
    }
   ],
   "source": [
    "Customer_Final.query(\"(total_amt < 0)\")['transaction_id'].count()"
   ]
  },
  {
   "cell_type": "markdown",
   "id": "55fa2f01",
   "metadata": {},
   "source": [
    "###### Solution-2: Unique transactions where total_amt was negative"
   ]
  },
  {
   "cell_type": "code",
   "execution_count": 24,
   "id": "ff016e18",
   "metadata": {},
   "outputs": [
    {
     "data": {
      "text/plain": [
       "2059"
      ]
     },
     "execution_count": 24,
     "metadata": {},
     "output_type": "execute_result"
    }
   ],
   "source": [
    "trans.query(\"(total_amt < 0)\")['transaction_id'].nunique()"
   ]
  },
  {
   "cell_type": "markdown",
   "id": "c01da980",
   "metadata": {},
   "source": [
    "#### Analyze which product categories are more popular among females vs male customers."
   ]
  },
  {
   "cell_type": "code",
   "execution_count": 25,
   "id": "1db8ba23",
   "metadata": {},
   "outputs": [
    {
     "data": {
      "image/png": "[encoded data removed]",
      "text/plain": [
       "<Figure size 640x480 with 1 Axes>"
      ]
     },
     "metadata": {},
     "output_type": "display_data"
    }
   ],
   "source": [
    "prod_pop = pd.DataFrame(Customer_Final.groupby(['Gender', 'prod_cat'])['Qty'].agg('sum')).reset_index()\n",
    "prod_pop = prod_pop.pivot(index = ['prod_cat'], values = 'Qty', columns = 'Gender').reset_index()\n",
    "\n",
    "x = prod_pop['prod_cat']\n",
    "y1 = prod_pop['F']\n",
    "y2 = prod_pop['M']\n",
    "plt.bar(x, y1, color = 'black')\n",
    "plt.bar(x, y2, bottom = y1, color = 'beige')\n",
    "current_values = plt.gca().get_yticks()\n",
    "plt.gca().set_yticklabels(['{:,.0f}'.format(x) for x in current_values])\n",
    "plt.xticks(rotation='vertical')\n",
    "plt.legend(['Female', 'Male'], loc='upper right')\n",
    "\n",
    "plt.show()"
   ]
  },
  {
   "cell_type": "code",
   "execution_count": 26,
   "id": "9f051584",
   "metadata": {},
   "outputs": [
    {
     "data": {
      "text/html": [
       "<div>\n",
       "<style scoped>\n",
       "    .dataframe tbody tr th:only-of-type {\n",
       "        vertical-align: middle;\n",
       "    }\n",
       "\n",
       "    .dataframe tbody tr th {\n",
       "        vertical-align: top;\n",
       "    }\n",
       "\n",
       "    .dataframe thead th {\n",
       "        text-align: right;\n",
       "    }\n",
       "</style>\n",
       "<table border=\"1\" class=\"dataframe\">\n",
       "  <thead>\n",
       "    <tr style=\"text-align: right;\">\n",
       "      <th></th>\n",
       "      <th>prod_cat</th>\n",
       "      <th>ttl_qty</th>\n",
       "      <th>dominant_gender</th>\n",
       "    </tr>\n",
       "  </thead>\n",
       "  <tbody>\n",
       "    <tr>\n",
       "      <th>0</th>\n",
       "      <td>Bags</td>\n",
       "      <td>2362</td>\n",
       "      <td>Female</td>\n",
       "    </tr>\n",
       "    <tr>\n",
       "      <th>1</th>\n",
       "      <td>Books</td>\n",
       "      <td>7587</td>\n",
       "      <td>Male</td>\n",
       "    </tr>\n",
       "    <tr>\n",
       "      <th>2</th>\n",
       "      <td>Clothing</td>\n",
       "      <td>3748</td>\n",
       "      <td>Male</td>\n",
       "    </tr>\n",
       "    <tr>\n",
       "      <th>3</th>\n",
       "      <td>Electronics</td>\n",
       "      <td>6476</td>\n",
       "      <td>Male</td>\n",
       "    </tr>\n",
       "    <tr>\n",
       "      <th>4</th>\n",
       "      <td>Footwear</td>\n",
       "      <td>3716</td>\n",
       "      <td>Female</td>\n",
       "    </tr>\n",
       "    <tr>\n",
       "      <th>5</th>\n",
       "      <td>Home and kitchen</td>\n",
       "      <td>5041</td>\n",
       "      <td>Male</td>\n",
       "    </tr>\n",
       "  </tbody>\n",
       "</table>\n",
       "</div>"
      ],
      "text/plain": [
       "           prod_cat  ttl_qty dominant_gender\n",
       "0              Bags     2362          Female\n",
       "1             Books     7587            Male\n",
       "2          Clothing     3748            Male\n",
       "3       Electronics     6476            Male\n",
       "4          Footwear     3716          Female\n",
       "5  Home and kitchen     5041            Male"
      ]
     },
     "execution_count": 26,
     "metadata": {},
     "output_type": "execute_result"
    }
   ],
   "source": [
    "product_by_gender = pd.DataFrame(prod_pop.groupby('prod_cat')[['F', 'M']].agg('max').max(axis = 1)).reset_index().rename(columns = {0 : 'ttl_qty'})\n",
    "\n",
    "f = (product_by_gender['ttl_qty'] == prod_pop['F'])\n",
    "product_by_gender['dominant_gender'] = f.apply(lambda x: 'Female' if x == True else 'Male')\n",
    "product_by_gender"
   ]
  },
  {
   "cell_type": "code",
   "execution_count": 27,
   "id": "d71ac39b",
   "metadata": {},
   "outputs": [
    {
     "name": "stdout",
     "output_type": "stream",
     "text": [
      "Popular product categories among Male customers:  Books, Clothing, Electronics, Home and kitchen\n",
      "Popular product categories among Female customers:  Bags, Footwear\n"
     ]
    }
   ],
   "source": [
    "print(\"Popular product categories among Male customers: \", ', '.join(product_by_gender.loc[product_by_gender['dominant_gender'] == 'Male', 'prod_cat'].values))\n",
    "print(\"Popular product categories among Female customers: \", ', '.join(product_by_gender.loc[product_by_gender['dominant_gender'] == 'Female', 'prod_cat'].values))"
   ]
  },
  {
   "cell_type": "markdown",
   "id": "f7d4939d",
   "metadata": {},
   "source": [
    "#### Which City code has the maximum customers and what was the percentage of customers from that city?"
   ]
  },
  {
   "cell_type": "code",
   "execution_count": 28,
   "id": "122bef34",
   "metadata": {},
   "outputs": [
    {
     "data": {
      "text/html": [
       "<div>\n",
       "<style scoped>\n",
       "    .dataframe tbody tr th:only-of-type {\n",
       "        vertical-align: middle;\n",
       "    }\n",
       "\n",
       "    .dataframe tbody tr th {\n",
       "        vertical-align: top;\n",
       "    }\n",
       "\n",
       "    .dataframe thead th {\n",
       "        text-align: right;\n",
       "    }\n",
       "</style>\n",
       "<table border=\"1\" class=\"dataframe\">\n",
       "  <thead>\n",
       "    <tr style=\"text-align: right;\">\n",
       "      <th></th>\n",
       "      <th>cust_cnt</th>\n",
       "      <th>% of customers</th>\n",
       "    </tr>\n",
       "    <tr>\n",
       "      <th>city_code</th>\n",
       "      <th></th>\n",
       "      <th></th>\n",
       "    </tr>\n",
       "  </thead>\n",
       "  <tbody>\n",
       "    <tr>\n",
       "      <th>4</th>\n",
       "      <td>2422</td>\n",
       "      <td>10.51</td>\n",
       "    </tr>\n",
       "  </tbody>\n",
       "</table>\n",
       "</div>"
      ],
      "text/plain": [
       "           cust_cnt  % of customers\n",
       "city_code                          \n",
       "4              2422           10.51"
      ]
     },
     "execution_count": 28,
     "metadata": {},
     "output_type": "execute_result"
    }
   ],
   "source": [
    "city_cus = pd.DataFrame(Customer_Final.groupby(['city_code'])['customer_Id'].agg('count'))\n",
    "city_cus['% of customers'] = [round((i/city_cus['customer_Id'].sum())*100, 2) for i in city_cus['customer_Id']]\n",
    "city_cus.rename(columns = {'customer_Id' : 'cust_cnt'}, inplace = True)\n",
    "city_cus.sort_values('cust_cnt', ascending = False).nlargest(1, columns = ['cust_cnt', '% of customers'])"
   ]
  },
  {
   "cell_type": "markdown",
   "id": "cdcd8144",
   "metadata": {},
   "source": [
    "#### Which store type sells the maximum products by value and by quantity?"
   ]
  },
  {
   "cell_type": "code",
   "execution_count": 29,
   "id": "8dc5eab7",
   "metadata": {},
   "outputs": [
    {
     "data": {
      "text/html": [
       "<div>\n",
       "<style scoped>\n",
       "    .dataframe tbody tr th:only-of-type {\n",
       "        vertical-align: middle;\n",
       "    }\n",
       "\n",
       "    .dataframe tbody tr th {\n",
       "        vertical-align: top;\n",
       "    }\n",
       "\n",
       "    .dataframe thead th {\n",
       "        text-align: right;\n",
       "    }\n",
       "</style>\n",
       "<table border=\"1\" class=\"dataframe\">\n",
       "  <thead>\n",
       "    <tr style=\"text-align: right;\">\n",
       "      <th></th>\n",
       "      <th>Qty</th>\n",
       "      <th>Rate</th>\n",
       "    </tr>\n",
       "    <tr>\n",
       "      <th>Store_type</th>\n",
       "      <th></th>\n",
       "      <th></th>\n",
       "    </tr>\n",
       "  </thead>\n",
       "  <tbody>\n",
       "    <tr>\n",
       "      <th>e-Shop</th>\n",
       "      <td>22763</td>\n",
       "      <td>5941001</td>\n",
       "    </tr>\n",
       "  </tbody>\n",
       "</table>\n",
       "</div>"
      ],
      "text/plain": [
       "              Qty     Rate\n",
       "Store_type                \n",
       "e-Shop      22763  5941001"
      ]
     },
     "execution_count": 29,
     "metadata": {},
     "output_type": "execute_result"
    }
   ],
   "source": [
    "top_store_type = Customer_Final.groupby(['Store_type'])[['Qty', 'Rate']].sum().sort_values(['Qty', 'Rate'], ascending = False)\n",
    "top_store_type.head(1)"
   ]
  },
  {
   "cell_type": "markdown",
   "id": "af2b7e4e",
   "metadata": {},
   "source": [
    "#### What was the total amount earned from the \"Electronics\" and \"Clothing\" categories from Flagship Stores?"
   ]
  },
  {
   "cell_type": "code",
   "execution_count": 30,
   "id": "012da4ac",
   "metadata": {},
   "outputs": [
    {
     "data": {
      "text/html": [
       "<div>\n",
       "<style scoped>\n",
       "    .dataframe tbody tr th:only-of-type {\n",
       "        vertical-align: middle;\n",
       "    }\n",
       "\n",
       "    .dataframe tbody tr th {\n",
       "        vertical-align: top;\n",
       "    }\n",
       "\n",
       "    .dataframe thead th {\n",
       "        text-align: right;\n",
       "    }\n",
       "</style>\n",
       "<table border=\"1\" class=\"dataframe\">\n",
       "  <thead>\n",
       "    <tr style=\"text-align: right;\">\n",
       "      <th></th>\n",
       "      <th></th>\n",
       "      <th></th>\n",
       "      <th>total_amt</th>\n",
       "    </tr>\n",
       "    <tr>\n",
       "      <th>Store_type</th>\n",
       "      <th>prod_cat</th>\n",
       "      <th>prod_subcat</th>\n",
       "      <th></th>\n",
       "    </tr>\n",
       "  </thead>\n",
       "  <tbody>\n",
       "    <tr>\n",
       "      <th rowspan=\"8\" valign=\"top\">Flagship store</th>\n",
       "      <th rowspan=\"3\" valign=\"top\">Clothing</th>\n",
       "      <th>Kids</th>\n",
       "      <td>422716.645</td>\n",
       "    </tr>\n",
       "    <tr>\n",
       "      <th>Mens</th>\n",
       "      <td>373711.000</td>\n",
       "    </tr>\n",
       "    <tr>\n",
       "      <th>Women</th>\n",
       "      <td>397995.585</td>\n",
       "    </tr>\n",
       "    <tr>\n",
       "      <th rowspan=\"5\" valign=\"top\">Electronics</th>\n",
       "      <th>Audio and video</th>\n",
       "      <td>369995.990</td>\n",
       "    </tr>\n",
       "    <tr>\n",
       "      <th>Cameras</th>\n",
       "      <td>443910.545</td>\n",
       "    </tr>\n",
       "    <tr>\n",
       "      <th>Computers</th>\n",
       "      <td>487279.585</td>\n",
       "    </tr>\n",
       "    <tr>\n",
       "      <th>Mobiles</th>\n",
       "      <td>524676.100</td>\n",
       "    </tr>\n",
       "    <tr>\n",
       "      <th>Personal Appliances</th>\n",
       "      <td>389273.820</td>\n",
       "    </tr>\n",
       "  </tbody>\n",
       "</table>\n",
       "</div>"
      ],
      "text/plain": [
       "                                                 total_amt\n",
       "Store_type     prod_cat    prod_subcat                    \n",
       "Flagship store Clothing    Kids                 422716.645\n",
       "                           Mens                 373711.000\n",
       "                           Women                397995.585\n",
       "               Electronics Audio and video      369995.990\n",
       "                           Cameras              443910.545\n",
       "                           Computers            487279.585\n",
       "                           Mobiles              524676.100\n",
       "                           Personal Appliances  389273.820"
      ]
     },
     "execution_count": 30,
     "metadata": {},
     "output_type": "execute_result"
    }
   ],
   "source": [
    "store_type = Customer_Final['Store_type'] == 'Flagship store'\n",
    "product_cat = (Customer_Final['prod_cat'] == 'Electronics') | (Customer_Final['prod_cat'] == 'Clothing')\n",
    "\n",
    "resultSet1 = pd.DataFrame(Customer_Final[store_type & product_cat].groupby(['Store_type', 'prod_cat', 'prod_subcat'])['total_amt'].agg('sum'))#.reset_index()\n",
    "resultSet1"
   ]
  },
  {
   "cell_type": "markdown",
   "id": "9003869d",
   "metadata": {},
   "source": [
    "#### What was the total amount earned from \"Male\" customers under the \"Electronics\" category?"
   ]
  },
  {
   "cell_type": "markdown",
   "id": "68367a2d",
   "metadata": {},
   "source": [
    "##### Method-1: Using masking to filter 'Male' only and 'Electronics' only records "
   ]
  },
  {
   "cell_type": "code",
   "execution_count": 31,
   "id": "a0d2fcf0",
   "metadata": {},
   "outputs": [
    {
     "data": {
      "text/plain": [
       "Gender  prod_cat   \n",
       "M       Electronics    5703109.42\n",
       "Name: total_amt, dtype: float64"
      ]
     },
     "execution_count": 31,
     "metadata": {},
     "output_type": "execute_result"
    }
   ],
   "source": [
    "gender_type = Customer_Final['Gender'] == 'M'\n",
    "product_cat = Customer_Final['prod_cat'] == 'Electronics'\n",
    "round(Customer_Final[gender_type & product_cat].groupby(['Gender', 'prod_cat'])['total_amt'].agg('sum'), 2)"
   ]
  },
  {
   "cell_type": "markdown",
   "id": "e22e1940",
   "metadata": {},
   "source": [
    "##### Method-2: pivoting the data"
   ]
  },
  {
   "cell_type": "code",
   "execution_count": 33,
   "id": "114d44eb",
   "metadata": {},
   "outputs": [
    {
     "name": "stdout",
     "output_type": "stream",
     "text": [
      "total amount earned from 'Male' customers under the 'Electronics' category:  5703109.42\n"
     ]
    }
   ],
   "source": [
    "gender_group = Customer_Final.pivot_table(index = 'prod_cat', values = 'total_amt', columns = ['Gender'], aggfunc = 'sum')\n",
    "print(\"total amount earned from 'Male' customers under the 'Electronics' category: \", round(gender_group.loc['Electronics', 'M'], 2))"
   ]
  },
  {
   "cell_type": "markdown",
   "id": "42258486",
   "metadata": {},
   "source": [
    "#### How many customers have more than 10 unique transactions, after removing all transactions which have any negative amounts?"
   ]
  },
  {
   "cell_type": "code",
   "execution_count": 34,
   "id": "83037ed3",
   "metadata": {},
   "outputs": [
    {
     "data": {
      "text/html": [
       "<div>\n",
       "<style scoped>\n",
       "    .dataframe tbody tr th:only-of-type {\n",
       "        vertical-align: middle;\n",
       "    }\n",
       "\n",
       "    .dataframe tbody tr th {\n",
       "        vertical-align: top;\n",
       "    }\n",
       "\n",
       "    .dataframe thead th {\n",
       "        text-align: right;\n",
       "    }\n",
       "</style>\n",
       "<table border=\"1\" class=\"dataframe\">\n",
       "  <thead>\n",
       "    <tr style=\"text-align: right;\">\n",
       "      <th></th>\n",
       "      <th>customer_Id</th>\n",
       "      <th>trans_cnt</th>\n",
       "    </tr>\n",
       "  </thead>\n",
       "  <tbody>\n",
       "    <tr>\n",
       "      <th>4</th>\n",
       "      <td>266794</td>\n",
       "      <td>11</td>\n",
       "    </tr>\n",
       "    <tr>\n",
       "      <th>2426</th>\n",
       "      <td>270535</td>\n",
       "      <td>11</td>\n",
       "    </tr>\n",
       "    <tr>\n",
       "      <th>2606</th>\n",
       "      <td>270803</td>\n",
       "      <td>11</td>\n",
       "    </tr>\n",
       "    <tr>\n",
       "      <th>3867</th>\n",
       "      <td>272741</td>\n",
       "      <td>11</td>\n",
       "    </tr>\n",
       "    <tr>\n",
       "      <th>4032</th>\n",
       "      <td>273014</td>\n",
       "      <td>11</td>\n",
       "    </tr>\n",
       "    <tr>\n",
       "      <th>4815</th>\n",
       "      <td>274227</td>\n",
       "      <td>11</td>\n",
       "    </tr>\n",
       "  </tbody>\n",
       "</table>\n",
       "</div>"
      ],
      "text/plain": [
       "      customer_Id  trans_cnt\n",
       "4          266794         11\n",
       "2426       270535         11\n",
       "2606       270803         11\n",
       "3867       272741         11\n",
       "4032       273014         11\n",
       "4815       274227         11"
      ]
     },
     "execution_count": 34,
     "metadata": {},
     "output_type": "execute_result"
    }
   ],
   "source": [
    "posVal = Customer_Final['total_amt'] > 0\n",
    "cust_metric = Customer_Final.loc[posVal, ['customer_Id', 'transaction_id', 'total_amt']]\n",
    "cust_metric = pd.DataFrame(cust_metric.groupby(['customer_Id', 'transaction_id'])['transaction_id'].agg('count')).rename(columns = {'transaction_id' : 'trans_cnt'}).reset_index()\n",
    "resultSet2 = pd.DataFrame(cust_metric.groupby('customer_Id')['trans_cnt'].agg('sum')).reset_index()\n",
    "resultSet3 = resultSet2[resultSet2['trans_cnt'] > 10]\n",
    "resultSet3"
   ]
  },
  {
   "cell_type": "markdown",
   "id": "3aa0f6c0",
   "metadata": {},
   "source": [
    "##### Verifying the results"
   ]
  },
  {
   "cell_type": "code",
   "execution_count": 35,
   "id": "aa058499",
   "metadata": {},
   "outputs": [
    {
     "data": {
      "text/plain": [
       "customer_Id\n",
       "266794    11\n",
       "270535    11\n",
       "270803    11\n",
       "272741    11\n",
       "273014    11\n",
       "274227    11\n",
       "Name: transaction_id, dtype: int64"
      ]
     },
     "execution_count": 35,
     "metadata": {},
     "output_type": "execute_result"
    }
   ],
   "source": [
    "# For each customer_Id in the resultSet3 there are 11 unique transactions\n",
    "\n",
    "unique_trans = pd.merge(resultSet3, \n",
    "                        Customer_Final, \n",
    "                        on = 'customer_Id', \n",
    "                        how = 'inner')\n",
    "\n",
    "unique_trans.groupby('customer_Id')['transaction_id'].nunique()"
   ]
  },
  {
   "cell_type": "markdown",
   "id": "405cee49",
   "metadata": {},
   "source": [
    "#### For all customers aged between 25 - 35, find out:"
   ]
  },
  {
   "cell_type": "markdown",
   "id": "a71f72b0",
   "metadata": {},
   "source": [
    "##### a. What was the total amount spent for “Electronics” and “Books” product categories?"
   ]
  },
  {
   "cell_type": "markdown",
   "id": "80fe2300",
   "metadata": {},
   "source": [
    "###### Step-1: To calculate the age of customers (including DOB with leap year)"
   ]
  },
  {
   "cell_type": "code",
   "execution_count": 36,
   "id": "c41df2fa",
   "metadata": {},
   "outputs": [
    {
     "data": {
      "text/plain": [
       "0        54\n",
       "1        54\n",
       "2        54\n",
       "3        54\n",
       "4        54\n",
       "         ..\n",
       "23048    31\n",
       "23049    31\n",
       "23050    31\n",
       "23051    31\n",
       "23052    31\n",
       "Name: Age, Length: 23053, dtype: int32"
      ]
     },
     "execution_count": 36,
     "metadata": {},
     "output_type": "execute_result"
    }
   ],
   "source": [
    "year_diff = dt.datetime.now().year - Customer_Final['DOB'].dt.year\n",
    "birth_month_day = Customer_Final['DOB'].apply(lambda x: (x.month, x.day))\n",
    "month_day_diff = birth_month_day > (dt.datetime.now().month, dt.datetime.now().day)\n",
    "Customer_Final['Age'] = year_diff - month_day_diff\n",
    "Customer_Final['Age']"
   ]
  },
  {
   "cell_type": "markdown",
   "id": "33ed0b4e",
   "metadata": {},
   "source": [
    "###### Step-2: Filter the customer age group and product categories"
   ]
  },
  {
   "cell_type": "code",
   "execution_count": 37,
   "id": "de5fb706",
   "metadata": {},
   "outputs": [
    {
     "data": {
      "text/plain": [
       "prod_cat     Age\n",
       "Books        31     382977.530\n",
       "             32     538003.505\n",
       "             33     478739.040\n",
       "             34     525726.955\n",
       "             35     528945.820\n",
       "Electronics  31     294725.600\n",
       "             32     409514.105\n",
       "             33     402299.560\n",
       "             34     537011.215\n",
       "             35     477857.250\n",
       "Name: total_amt, dtype: float64"
      ]
     },
     "execution_count": 37,
     "metadata": {},
     "output_type": "execute_result"
    }
   ],
   "source": [
    "ageFilter = Customer_Final['Age'].between(25, 35)\n",
    "productFilter = (Customer_Final['prod_cat'] == 'Electronics') | (Customer_Final['prod_cat'] == 'Books')\n",
    "age_group = Customer_Final[ageFilter & productFilter]\n",
    "age_group.groupby(['prod_cat', 'Age'])['total_amt'].agg('sum')"
   ]
  },
  {
   "cell_type": "markdown",
   "id": "03d1edc7",
   "metadata": {},
   "source": [
    "###### Step-3: Create age-groups"
   ]
  },
  {
   "cell_type": "code",
   "execution_count": 188,
   "id": "5cd9bcd1",
   "metadata": {},
   "outputs": [
    {
     "data": {
      "text/html": [
       "<div>\n",
       "<style scoped>\n",
       "    .dataframe tbody tr th:only-of-type {\n",
       "        vertical-align: middle;\n",
       "    }\n",
       "\n",
       "    .dataframe tbody tr th {\n",
       "        vertical-align: top;\n",
       "    }\n",
       "\n",
       "    .dataframe thead th {\n",
       "        text-align: right;\n",
       "    }\n",
       "</style>\n",
       "<table border=\"1\" class=\"dataframe\">\n",
       "  <thead>\n",
       "    <tr style=\"text-align: right;\">\n",
       "      <th></th>\n",
       "      <th>customer_Id</th>\n",
       "      <th>DOB</th>\n",
       "      <th>Gender</th>\n",
       "      <th>city_code</th>\n",
       "      <th>transaction_id</th>\n",
       "      <th>cust_id</th>\n",
       "      <th>tran_date</th>\n",
       "      <th>prod_subcat_code</th>\n",
       "      <th>prod_cat_code</th>\n",
       "      <th>Qty</th>\n",
       "      <th>Rate</th>\n",
       "      <th>Tax</th>\n",
       "      <th>total_amt</th>\n",
       "      <th>Store_type</th>\n",
       "      <th>prod_sub_cat_code</th>\n",
       "      <th>prod_cat</th>\n",
       "      <th>prod_subcat</th>\n",
       "      <th>Age</th>\n",
       "      <th>age_group</th>\n",
       "    </tr>\n",
       "  </thead>\n",
       "  <tbody>\n",
       "    <tr>\n",
       "      <th>0</th>\n",
       "      <td>268408</td>\n",
       "      <td>1970-01-02</td>\n",
       "      <td>M</td>\n",
       "      <td>4</td>\n",
       "      <td>87243835584</td>\n",
       "      <td>268408</td>\n",
       "      <td>2014-01-13</td>\n",
       "      <td>7</td>\n",
       "      <td>5</td>\n",
       "      <td>5</td>\n",
       "      <td>187</td>\n",
       "      <td>98.175</td>\n",
       "      <td>1033.175</td>\n",
       "      <td>TeleShop</td>\n",
       "      <td>7</td>\n",
       "      <td>Books</td>\n",
       "      <td>Fiction</td>\n",
       "      <td>54</td>\n",
       "      <td>50-55</td>\n",
       "    </tr>\n",
       "    <tr>\n",
       "      <th>1</th>\n",
       "      <td>268408</td>\n",
       "      <td>1970-01-02</td>\n",
       "      <td>M</td>\n",
       "      <td>4</td>\n",
       "      <td>16197868036</td>\n",
       "      <td>268408</td>\n",
       "      <td>2013-12-16</td>\n",
       "      <td>1</td>\n",
       "      <td>4</td>\n",
       "      <td>-5</td>\n",
       "      <td>-210</td>\n",
       "      <td>110.250</td>\n",
       "      <td>-1160.250</td>\n",
       "      <td>Flagship store</td>\n",
       "      <td>1</td>\n",
       "      <td>Bags</td>\n",
       "      <td>Mens</td>\n",
       "      <td>54</td>\n",
       "      <td>50-55</td>\n",
       "    </tr>\n",
       "    <tr>\n",
       "      <th>2</th>\n",
       "      <td>268408</td>\n",
       "      <td>1970-01-02</td>\n",
       "      <td>M</td>\n",
       "      <td>4</td>\n",
       "      <td>16197868036</td>\n",
       "      <td>268408</td>\n",
       "      <td>2013-12-12</td>\n",
       "      <td>1</td>\n",
       "      <td>4</td>\n",
       "      <td>5</td>\n",
       "      <td>210</td>\n",
       "      <td>110.250</td>\n",
       "      <td>1160.250</td>\n",
       "      <td>Flagship store</td>\n",
       "      <td>1</td>\n",
       "      <td>Bags</td>\n",
       "      <td>Mens</td>\n",
       "      <td>54</td>\n",
       "      <td>50-55</td>\n",
       "    </tr>\n",
       "    <tr>\n",
       "      <th>3</th>\n",
       "      <td>268408</td>\n",
       "      <td>1970-01-02</td>\n",
       "      <td>M</td>\n",
       "      <td>4</td>\n",
       "      <td>28810141075</td>\n",
       "      <td>268408</td>\n",
       "      <td>2013-09-02</td>\n",
       "      <td>10</td>\n",
       "      <td>6</td>\n",
       "      <td>2</td>\n",
       "      <td>813</td>\n",
       "      <td>170.730</td>\n",
       "      <td>1796.730</td>\n",
       "      <td>TeleShop</td>\n",
       "      <td>10</td>\n",
       "      <td>Home and kitchen</td>\n",
       "      <td>Kitchen</td>\n",
       "      <td>54</td>\n",
       "      <td>50-55</td>\n",
       "    </tr>\n",
       "    <tr>\n",
       "      <th>4</th>\n",
       "      <td>268408</td>\n",
       "      <td>1970-01-02</td>\n",
       "      <td>M</td>\n",
       "      <td>4</td>\n",
       "      <td>64633435931</td>\n",
       "      <td>268408</td>\n",
       "      <td>2013-05-06</td>\n",
       "      <td>4</td>\n",
       "      <td>2</td>\n",
       "      <td>3</td>\n",
       "      <td>312</td>\n",
       "      <td>98.280</td>\n",
       "      <td>1034.280</td>\n",
       "      <td>Flagship store</td>\n",
       "      <td>4</td>\n",
       "      <td>Footwear</td>\n",
       "      <td>Kids</td>\n",
       "      <td>54</td>\n",
       "      <td>50-55</td>\n",
       "    </tr>\n",
       "    <tr>\n",
       "      <th>...</th>\n",
       "      <td>...</td>\n",
       "      <td>...</td>\n",
       "      <td>...</td>\n",
       "      <td>...</td>\n",
       "      <td>...</td>\n",
       "      <td>...</td>\n",
       "      <td>...</td>\n",
       "      <td>...</td>\n",
       "      <td>...</td>\n",
       "      <td>...</td>\n",
       "      <td>...</td>\n",
       "      <td>...</td>\n",
       "      <td>...</td>\n",
       "      <td>...</td>\n",
       "      <td>...</td>\n",
       "      <td>...</td>\n",
       "      <td>...</td>\n",
       "      <td>...</td>\n",
       "      <td>...</td>\n",
       "    </tr>\n",
       "    <tr>\n",
       "      <th>23048</th>\n",
       "      <td>269626</td>\n",
       "      <td>1992-12-27</td>\n",
       "      <td>F</td>\n",
       "      <td>5</td>\n",
       "      <td>71369029396</td>\n",
       "      <td>269626</td>\n",
       "      <td>2011-10-18</td>\n",
       "      <td>12</td>\n",
       "      <td>6</td>\n",
       "      <td>1</td>\n",
       "      <td>638</td>\n",
       "      <td>66.990</td>\n",
       "      <td>704.990</td>\n",
       "      <td>e-Shop</td>\n",
       "      <td>12</td>\n",
       "      <td>Home and kitchen</td>\n",
       "      <td>Tools</td>\n",
       "      <td>31</td>\n",
       "      <td>25-35</td>\n",
       "    </tr>\n",
       "    <tr>\n",
       "      <th>23049</th>\n",
       "      <td>269626</td>\n",
       "      <td>1992-12-27</td>\n",
       "      <td>F</td>\n",
       "      <td>5</td>\n",
       "      <td>94134051896</td>\n",
       "      <td>269626</td>\n",
       "      <td>2011-07-07</td>\n",
       "      <td>3</td>\n",
       "      <td>1</td>\n",
       "      <td>3</td>\n",
       "      <td>1078</td>\n",
       "      <td>339.570</td>\n",
       "      <td>3573.570</td>\n",
       "      <td>MBR</td>\n",
       "      <td>3</td>\n",
       "      <td>Clothing</td>\n",
       "      <td>Kids</td>\n",
       "      <td>31</td>\n",
       "      <td>25-35</td>\n",
       "    </tr>\n",
       "    <tr>\n",
       "      <th>23050</th>\n",
       "      <td>274308</td>\n",
       "      <td>1992-12-29</td>\n",
       "      <td>F</td>\n",
       "      <td>5</td>\n",
       "      <td>26208690928</td>\n",
       "      <td>274308</td>\n",
       "      <td>2012-10-22</td>\n",
       "      <td>1</td>\n",
       "      <td>2</td>\n",
       "      <td>2</td>\n",
       "      <td>898</td>\n",
       "      <td>188.580</td>\n",
       "      <td>1984.580</td>\n",
       "      <td>MBR</td>\n",
       "      <td>1</td>\n",
       "      <td>Footwear</td>\n",
       "      <td>Mens</td>\n",
       "      <td>31</td>\n",
       "      <td>25-35</td>\n",
       "    </tr>\n",
       "    <tr>\n",
       "      <th>23051</th>\n",
       "      <td>274308</td>\n",
       "      <td>1992-12-29</td>\n",
       "      <td>F</td>\n",
       "      <td>5</td>\n",
       "      <td>57358822237</td>\n",
       "      <td>274308</td>\n",
       "      <td>2012-09-05</td>\n",
       "      <td>1</td>\n",
       "      <td>2</td>\n",
       "      <td>4</td>\n",
       "      <td>876</td>\n",
       "      <td>367.920</td>\n",
       "      <td>3871.920</td>\n",
       "      <td>e-Shop</td>\n",
       "      <td>1</td>\n",
       "      <td>Footwear</td>\n",
       "      <td>Mens</td>\n",
       "      <td>31</td>\n",
       "      <td>25-35</td>\n",
       "    </tr>\n",
       "    <tr>\n",
       "      <th>23052</th>\n",
       "      <td>274308</td>\n",
       "      <td>1992-12-29</td>\n",
       "      <td>F</td>\n",
       "      <td>5</td>\n",
       "      <td>58160544337</td>\n",
       "      <td>274308</td>\n",
       "      <td>2012-07-04</td>\n",
       "      <td>12</td>\n",
       "      <td>5</td>\n",
       "      <td>5</td>\n",
       "      <td>588</td>\n",
       "      <td>308.700</td>\n",
       "      <td>3248.700</td>\n",
       "      <td>e-Shop</td>\n",
       "      <td>12</td>\n",
       "      <td>Books</td>\n",
       "      <td>Academic</td>\n",
       "      <td>31</td>\n",
       "      <td>25-35</td>\n",
       "    </tr>\n",
       "  </tbody>\n",
       "</table>\n",
       "<p>23053 rows × 19 columns</p>\n",
       "</div>"
      ],
      "text/plain": [
       "       customer_Id        DOB Gender  city_code  transaction_id  cust_id  \\\n",
       "0           268408 1970-01-02      M          4     87243835584   268408   \n",
       "1           268408 1970-01-02      M          4     16197868036   268408   \n",
       "2           268408 1970-01-02      M          4     16197868036   268408   \n",
       "3           268408 1970-01-02      M          4     28810141075   268408   \n",
       "4           268408 1970-01-02      M          4     64633435931   268408   \n",
       "...            ...        ...    ...        ...             ...      ...   \n",
       "23048       269626 1992-12-27      F          5     71369029396   269626   \n",
       "23049       269626 1992-12-27      F          5     94134051896   269626   \n",
       "23050       274308 1992-12-29      F          5     26208690928   274308   \n",
       "23051       274308 1992-12-29      F          5     57358822237   274308   \n",
       "23052       274308 1992-12-29      F          5     58160544337   274308   \n",
       "\n",
       "       tran_date  prod_subcat_code  prod_cat_code  Qty  Rate      Tax  \\\n",
       "0     2014-01-13                 7              5    5   187   98.175   \n",
       "1     2013-12-16                 1              4   -5  -210  110.250   \n",
       "2     2013-12-12                 1              4    5   210  110.250   \n",
       "3     2013-09-02                10              6    2   813  170.730   \n",
       "4     2013-05-06                 4              2    3   312   98.280   \n",
       "...          ...               ...            ...  ...   ...      ...   \n",
       "23048 2011-10-18                12              6    1   638   66.990   \n",
       "23049 2011-07-07                 3              1    3  1078  339.570   \n",
       "23050 2012-10-22                 1              2    2   898  188.580   \n",
       "23051 2012-09-05                 1              2    4   876  367.920   \n",
       "23052 2012-07-04                12              5    5   588  308.700   \n",
       "\n",
       "       total_amt      Store_type  prod_sub_cat_code          prod_cat  \\\n",
       "0       1033.175        TeleShop                  7             Books   \n",
       "1      -1160.250  Flagship store                  1              Bags   \n",
       "2       1160.250  Flagship store                  1              Bags   \n",
       "3       1796.730        TeleShop                 10  Home and kitchen   \n",
       "4       1034.280  Flagship store                  4          Footwear   \n",
       "...          ...             ...                ...               ...   \n",
       "23048    704.990          e-Shop                 12  Home and kitchen   \n",
       "23049   3573.570             MBR                  3          Clothing   \n",
       "23050   1984.580             MBR                  1          Footwear   \n",
       "23051   3871.920          e-Shop                  1          Footwear   \n",
       "23052   3248.700          e-Shop                 12             Books   \n",
       "\n",
       "      prod_subcat  Age age_group  \n",
       "0         Fiction   54     50-55  \n",
       "1            Mens   54     50-55  \n",
       "2            Mens   54     50-55  \n",
       "3         Kitchen   54     50-55  \n",
       "4            Kids   54     50-55  \n",
       "...           ...  ...       ...  \n",
       "23048       Tools   31     25-35  \n",
       "23049        Kids   31     25-35  \n",
       "23050        Mens   31     25-35  \n",
       "23051        Mens   31     25-35  \n",
       "23052    Academic   31     25-35  \n",
       "\n",
       "[23053 rows x 19 columns]"
      ]
     },
     "execution_count": 188,
     "metadata": {},
     "output_type": "execute_result"
    }
   ],
   "source": [
    "Customer_Final.loc[Customer_Final['Age'].between(25, 35, 'both'), 'age_group'] = '25-35'\n",
    "Customer_Final.loc[Customer_Final['Age'].between(35, 45, 'right'), 'age_group'] = '35-45'\n",
    "Customer_Final.loc[Customer_Final['Age'].between(45, 50, 'right'), 'age_group'] = '45-50'\n",
    "Customer_Final.loc[Customer_Final['Age'].between(50, 55, 'right'), 'age_group'] = '50-55'\n",
    "Customer_Final"
   ]
  },
  {
   "cell_type": "markdown",
   "id": "46edcd83",
   "metadata": {},
   "source": [
    "###### Step-4: Aggregate the data in age-group of 25-35"
   ]
  },
  {
   "cell_type": "code",
   "execution_count": 189,
   "id": "9510f73f",
   "metadata": {},
   "outputs": [
    {
     "data": {
      "text/plain": [
       "age_group  prod_cat   \n",
       "25-35      Books          2494980.605\n",
       "           Electronics    2149405.115\n",
       "Name: total_amt, dtype: float64"
      ]
     },
     "execution_count": 189,
     "metadata": {},
     "output_type": "execute_result"
    }
   ],
   "source": [
    "ageFilter = Customer_Final['age_group'] == '25-35'\n",
    "productFilter = (Customer_Final['prod_cat'] == 'Electronics') | (Customer_Final['prod_cat'] == 'Books')\n",
    "Customer_Final[ageFilter & productFilter].groupby(['age_group', 'prod_cat'])['total_amt'].agg('sum')"
   ]
  },
  {
   "cell_type": "code",
   "execution_count": 190,
   "id": "0ebbf60f",
   "metadata": {},
   "outputs": [
    {
     "name": "stdout",
     "output_type": "stream",
     "text": [
      "Revenue generated in 'Electronics' and 'Books' product categories:  4644385.72\n"
     ]
    }
   ],
   "source": [
    "# Combined revenue\n",
    "print(\"Revenue generated in 'Electronics' and 'Books' product categories: \", Customer_Final[ageFilter & productFilter].groupby(['age_group', 'prod_cat'])['total_amt'].agg('sum').sum())"
   ]
  },
  {
   "cell_type": "markdown",
   "id": "c53dbdd3",
   "metadata": {},
   "source": [
    "##### b. What was the total amount spent by these customers between 1st Jan, 2014 to 1st Mar, 2014?"
   ]
  },
  {
   "cell_type": "code",
   "execution_count": 191,
   "id": "af18fd0a",
   "metadata": {},
   "outputs": [
    {
     "name": "stdout",
     "output_type": "stream",
     "text": [
      "Toatal amount spent by age-group of 25-35 between 1st Jan, 2014 to 1st Mar, 2014 (Including negative values): 523883.81\n",
      "Toatal amount spent by age-group of 25-35 between 1st Jan, 2014 to 1st Mar, 2014 (Excluding negative values): 540059.91\n"
     ]
    }
   ],
   "source": [
    "ageFilter = Customer_Final['age_group'] == '25-35'\n",
    "dtFilter1 = (Customer_Final['tran_date'].dt.strftime('%Y-%m-%d') >= '2014-01-01') & (Customer_Final['tran_date'].dt.strftime('%Y-%m-%d') <= '2014-03-01')\n",
    "\n",
    "reseultSet1 = pd.DataFrame(Customer_Final[dtFilter1 & ageFilter].groupby(['tran_date', 'age_group'])['total_amt'].agg('sum')).sum()\n",
    "print(\"Toatal amount spent by age-group of 25-35 between 1st Jan, 2014 to 1st Mar, 2014 (Including negative values):\", round(reseultSet1['total_amt'], 2))\n",
    "\n",
    "reseultSet2 = pd.DataFrame(Customer_Final[dtFilter1 & ageFilter].groupby(['tran_date', 'age_group'])['total_amt'].agg('sum'))\n",
    "reseultSet2 = round(reseultSet2[reseultSet2['total_amt'] > 0].sum(), 2)\n",
    "print(\"Toatal amount spent by age-group of 25-35 between 1st Jan, 2014 to 1st Mar, 2014 (Excluding negative values):\", reseultSet2['total_amt'])\n"
   ]
  }
 ],
 "metadata": {
  "kernelspec": {
   "display_name": "Python 3 (ipykernel)",
   "language": "python",
   "name": "python3"
  },
  "language_info": {
   "codemirror_mode": {
    "name": "ipython",
    "version": 3
   },
   "file_extension": ".py",
   "mimetype": "text/x-python",
   "name": "python",
   "nbconvert_exporter": "python",
   "pygments_lexer": "ipython3",
   "version": "3.9.19"
  },
  "toc": {
   "base_numbering": 1,
   "nav_menu": {},
   "number_sections": true,
   "sideBar": true,
   "skip_h1_title": false,
   "title_cell": "Table of Contents",
   "title_sidebar": "Contents",
   "toc_cell": false,
   "toc_position": {},
   "toc_section_display": true,
   "toc_window_display": false
  }
 },
 "nbformat": 4,
 "nbformat_minor": 5
}
